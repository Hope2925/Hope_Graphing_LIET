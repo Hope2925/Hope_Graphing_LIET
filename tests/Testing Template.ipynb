{
 "cells": [
  {
   "cell_type": "code",
   "execution_count": null,
   "metadata": {},
   "outputs": [],
   "source": [
    "import unittest\n",
    "import my_module as mm\n",
    "\n",
    "## A class in which we test the funcitons of our module\n",
    "class ModuleTest(unittest.TestCase)\n",
    "    # a function to test a function in our module (must start with 'test_')\n",
    "    def test_func1(self):\n",
    "        self.assertEqual(mm.func1(), b)\n",
    "        self.assertIsNotNone(mm.func1())\n",
    "        self.assertIsInstance(mm.func1(), q)\n",
    "        self.assertIn(mm.func1(), x)\n",
    "        self.assertLess(mm.func1(), y)\n",
    "        \n",
    "if __name__ == '__main__':\n",
    "    unittest.main()"
   ]
  },
  {
   "cell_type": "code",
   "execution_count": 1,
   "metadata": {},
   "outputs": [
    {
     "data": {
      "text/plain": [
       "5"
      ]
     },
     "execution_count": 1,
     "metadata": {},
     "output_type": "execute_result"
    }
   ],
   "source": [
    "int(5.6)"
   ]
  },
  {
   "cell_type": "markdown",
   "metadata": {},
   "source": [
    "Then in the terminal you would type test_my_lib.py"
   ]
  }
 ],
 "metadata": {
  "kernelspec": {
   "display_name": "secondtestEnv",
   "language": "python",
   "name": "secondtestenv"
  },
  "language_info": {
   "codemirror_mode": {
    "name": "ipython",
    "version": 3
   },
   "file_extension": ".py",
   "mimetype": "text/x-python",
   "name": "python",
   "nbconvert_exporter": "python",
   "pygments_lexer": "ipython3",
   "version": "3.10.6"
  }
 },
 "nbformat": 4,
 "nbformat_minor": 2
}
