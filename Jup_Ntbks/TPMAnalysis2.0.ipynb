{
 "cells": [
  {
   "cell_type": "code",
   "execution_count": 1,
   "metadata": {},
   "outputs": [],
   "source": [
    "# Import required system\n",
    "import sys\n",
    "sys.path.append('/Users/hoto7260/Jacob_LIET2/LIET/liet')\n",
    "\n",
    "# general\n",
    "import matplotlib.pyplot as plt\n",
    "import numpy as np\n",
    "try:\n",
    "    np.distutils.__config__.blas_opt_info = np.distutils.__config__.blas_ilp64_opt_info\n",
    "except Exception:\n",
    "    pass\n",
    "import pandas as pd\n",
    "from scipy.stats import pearsonr\n",
    "import plotly.express as px\n",
    "\n",
    "# my modules\n",
    "from liet_res_class import FitParse\n",
    "import plotting_funcs as pf\n",
    "import analysis_funcs as af\n",
    "\n",
    "# setting plotting paramaters\n",
    "from pylab import rcParams\n",
    "rcParams['figure.figsize'] = 20, 6\n",
    "rcParams['font.size'] = 15\n",
    "#plt.rcParams.update({'font.size': 22})"
   ]
  },
  {
   "cell_type": "markdown",
   "metadata": {},
   "source": [
    "# Finding which samples would be best to combine to assess TPM impact on model shape production\n",
    "In order to determine what number of TPM is required in order for LIET to produce a model, we can concatenate runs and subsample to see at what point the model shape is lost."
   ]
  },
  {
   "cell_type": "markdown",
   "metadata": {},
   "source": [
    "## 1. Find best data for subsampling\n",
    "I can either use data that is high in count but has a quality score of 2, slightly lower counts with a quality score of 1, or concatenate two files with quality scores of 1. For the latter, the runs must be similar otherwise the concatenation may lead to different shapes based on which reads are subsampled.\n",
    "\n",
    "Since BAM files seem to have headers, it might be easier to just use an already large file. If we also want to consider saturation of model, it might be better to do large file, otherwise just stick with initial.\n",
    "My options:\n",
    "- **Beckerdorff2020human HeLa: SRR8478992 104 (1)** (Single)\n",
    "- Beckerdorff2020human HeLa: SRR8478996 136 (2) (Single)\n",
    "- G401: SRR6498832 126 (2)\n",
    "- HCT116: SRR8304731 132 (2)\n",
    "- Kbm7: SRR10354624 78 (1) & SRR10354625 67 (1)\n",
    "- SRZ10354610 77 (1) & SRZ10354610 80 (1)"
   ]
  },
  {
   "cell_type": "markdown",
   "metadata": {},
   "source": [
    "## 2. Subsample bam files & run on LIET\n",
    "1. Can be done using samtools view -bs seedint.decimal% > subsampled.bam\n",
    "- Can do 20% \n",
    "- convert bams to bedgraphs & run on LIET using hermit genes\n",
    "- make bash file turning these bams into bedgraphs on LIET_Nextflow\n",
    "\n",
    "\n",
    "- posterior widths with mL_stdev (more coverage)\n",
    "- posterior stdev of oT (termination peak width) \n",
    "- posterior means of mT "
   ]
  },
  {
   "cell_type": "markdown",
   "metadata": {},
   "source": [
    "## 3. Load in Data"
   ]
  },
  {
   "cell_type": "code",
   "execution_count": 2,
   "metadata": {},
   "outputs": [
    {
     "name": "stderr",
     "output_type": "stream",
     "text": [
      "CHECK LINE: ['NUCKS1: model error']\n",
      "CHECK LINE: ['KCNMB4: model error']\n",
      "CHECK LINE: ['FBXO33: model error']\n",
      "CHECK LINE: ['TTC9: model error']\n",
      "CHECK LINE: ['IRX3: model error']\n",
      "CHECK LINE: ['PTRF: model error']\n",
      "CHECK LINE: ['ALPK2: model error']\n",
      "CHECK LINE: ['PI3: fitting error']\n"
     ]
    }
   ],
   "source": [
    "# 1%\n",
    "log_file = \"/scratch/Users/hoto7260/batch_out_files/celltype/subsamp/subsamp01.hela.1030.liet.log\"\n",
    "res_file = \"/scratch/Users/hoto7260/batch_out_files/celltype/subsamp/subsamp01.hela.1030.liet\"\n",
    "subsamp01 = pf.FitParse(res_file=res_file, log_file=log_file)\n",
    "# 5%\n",
    "log_file = \"/scratch/Users/hoto7260/batch_out_files/celltype/subsamp/subsamp05.hela.1030.liet.log\"\n",
    "res_file = \"/scratch/Users/hoto7260/batch_out_files/celltype/subsamp/subsamp05.hela.1030.liet\"\n",
    "subsamp05 = pf.FitParse(res_file=res_file, log_file=log_file)\n",
    "# 20%\n",
    "log_file = \"/scratch/Users/hoto7260/batch_out_files/celltype/subsamp/subsamp20.hela.1030.liet.log\"\n",
    "res_file = \"/scratch/Users/hoto7260/batch_out_files/celltype/subsamp/subsamp20.hela.1030.liet\"\n",
    "subsamp20 = pf.FitParse(res_file=res_file, log_file=log_file)\n",
    "# 40%\n",
    "log_file = \"/scratch/Users/hoto7260/batch_out_files/celltype/subsamp/subsamp40.hela.1030.liet.log\"\n",
    "res_file = \"/scratch/Users/hoto7260/batch_out_files/celltype/subsamp/subsamp40.hela.1030.liet\"\n",
    "subsamp40 = pf.FitParse(res_file=res_file, log_file=log_file)\n",
    "# 60%\n",
    "log_file = \"/scratch/Users/hoto7260/batch_out_files/celltype/subsamp/subsamp60.hela.1030.liet.log\"\n",
    "res_file = \"/scratch/Users/hoto7260/batch_out_files/celltype/subsamp/subsamp60.hela.1030.liet\"\n",
    "subsamp60 = pf.FitParse(res_file=res_file, log_file=log_file)\n",
    "# 80%\n",
    "# log_file = \"/scratch/Users/hoto7260/batch_out_files/celltype/subsamp/subsamp80.hela.1030.liet.log\"\n",
    "# res_file = \"/scratch/Users/hoto7260/batch_out_files/celltype/subsamp/subsamp80.hela.1030.liet\"\n",
    "# subsamp80 = pf.FitParse(res_file=res_file, log_file=log_file)\n",
    "# 100%\n",
    "log_file = \"/scratch/Users/hoto7260/batch_out_files/celltype/subsamp/subsamp100.hela.1030.liet.log\"\n",
    "res_file = \"/scratch/Users/hoto7260/batch_out_files/celltype/subsamp/subsamp100.hela.1030.liet\"\n",
    "subsamp100 = pf.FitParse(res_file=res_file, log_file=log_file)"
   ]
  },
  {
   "cell_type": "markdown",
   "metadata": {},
   "source": [
    "I cannot compare gene counts with coverage since 100% had the full 363 genes while the rest had the truncated 99 genes."
   ]
  },
  {
   "cell_type": "markdown",
   "metadata": {},
   "source": [
    "## 4. Put all data into combined dataframe after filtering"
   ]
  },
  {
   "cell_type": "code",
   "execution_count": 4,
   "metadata": {},
   "outputs": [
    {
     "name": "stdout",
     "output_type": "stream",
     "text": [
      "# genes before & after w_B filtered for 1% 42 42\n",
      "# genes before & after w_B filtered for 5% 56 56\n",
      "# genes before & after w_B filtered for 20% 65 65\n",
      "# genes before & after w_B filtered for 40% 66 66\n",
      "# genes before & after w_B filtered for 60% 67 67\n",
      "# genes before & after w_B filtered for 100% 197 197\n"
     ]
    }
   ],
   "source": [
    "# Filter for wB_mean < 0.6\n",
    "#df_list = [subsamp20.df, subsamp40.df, subsamp60.df, subsamp80.df, subsamp100.df]\n",
    "df_list = [subsamp01.df, subsamp05.df, subsamp20.df, \n",
    "           subsamp40.df, subsamp60.df, subsamp100.df]\n",
    "# [subsamp20_f_df, subsamp40_f_df, \n",
    "#  subsamp60_f_df, subsamp80_f_df, \n",
    "#  subsamp100_f_df] = af.filter_dfs(df_list, col='w_B_mean',\n",
    "#                                   value=0.6, comparison='<')\n",
    "[subsamp01_f_df, subsamp05_f_df, \n",
    " subsamp20_f_df, subsamp40_f_df, \n",
    " subsamp60_f_df,  subsamp100_f_df] = af.filter_dfs(df_list, col='w_B_mean',\n",
    "                                  value=1, comparison='<')\n",
    "print('# genes before & after w_B filtered for 1%', len(subsamp01.df.index),len(subsamp01_f_df.index))\n",
    "print('# genes before & after w_B filtered for 5%', len(subsamp05.df.index),len(subsamp05_f_df.index))\n",
    "print('# genes before & after w_B filtered for 20%', len(subsamp20.df.index),len(subsamp20_f_df.index))\n",
    "print('# genes before & after w_B filtered for 40%', len(subsamp40.df.index),len(subsamp40_f_df.index))\n",
    "print('# genes before & after w_B filtered for 60%', len(subsamp60.df.index),len(subsamp60_f_df.index))\n",
    "#print('# genes before & after w_B filtered for 80%', len(subsamp80.df.index),len(subsamp80_f_df.index))\n",
    "print('# genes before & after w_B filtered for 100%',len(subsamp100.df.index),len(subsamp100_f_df.index))"
   ]
  },
  {
   "cell_type": "code",
   "execution_count": 5,
   "metadata": {},
   "outputs": [
    {
     "name": "stdout",
     "output_type": "stream",
     "text": [
      "After merging k562 5%, # genes= 42\n",
      "After merging k562 20%, # genes= 42\n",
      "After merging k562 40%, # genes= 42\n",
      "After merging k562 60%, # genes= 42\n",
      "After merging k562 100%, # genes= 42\n",
      "After merging k562 5%, # genes= 42\n",
      "After merging k562 20%, # genes= 42\n",
      "After merging k562 40%, # genes= 42\n",
      "After merging k562 60%, # genes= 42\n",
      "After merging k562 100%, # genes= 42\n",
      "After merging k562 5%, # genes= 42\n",
      "After merging k562 20%, # genes= 42\n",
      "After merging k562 40%, # genes= 42\n",
      "After merging k562 60%, # genes= 42\n",
      "After merging k562 100%, # genes= 42\n",
      "After merging k562 5%, # genes= 42\n",
      "After merging k562 20%, # genes= 42\n",
      "After merging k562 40%, # genes= 42\n",
      "After merging k562 60%, # genes= 42\n",
      "After merging k562 100%, # genes= 42\n",
      "After merging k562 5%, # genes= 42\n",
      "After merging k562 20%, # genes= 42\n",
      "After merging k562 40%, # genes= 42\n",
      "After merging k562 60%, # genes= 42\n",
      "After merging k562 100%, # genes= 42\n",
      "After merging k562 5%, # genes= 42\n",
      "After merging k562 20%, # genes= 42\n",
      "After merging k562 40%, # genes= 42\n",
      "After merging k562 60%, # genes= 42\n",
      "After merging k562 100%, # genes= 42\n"
     ]
    }
   ],
   "source": [
    "\n",
    "# Get coverage based on strands\n",
    "subsamp01_f_df = af.getcov(subsamp01_f_df)\n",
    "subsamp05_f_df = af.getcov(subsamp05_f_df)\n",
    "subsamp20_f_df = af.getcov(subsamp20_f_df)\n",
    "subsamp40_f_df = af.getcov(subsamp40_f_df)\n",
    "subsamp60_f_df = af.getcov(subsamp60_f_df)\n",
    "subsamp100_f_df = af.getcov(subsamp100_f_df)\n",
    "\n",
    "# combine into dataframe\n",
    "col_list = ['mT_mean', 'mT_stdev', 'mL_mean', 'mL_stdev', 'cov', 'w_B_mean']\n",
    "df_list = [subsamp01_f_df, subsamp05_f_df, \n",
    " subsamp20_f_df, subsamp40_f_df, \n",
    " subsamp60_f_df,  subsamp100_f_df]\n",
    "name_list = ['k562 1%', 'k562 5%','k562 20%', 'k562 40%','k562 60%',\n",
    "             'k562 100%']\n",
    "ALL_full_df = af.df_combiner(col_list, df_list, name_list)\n",
    "\n",
    "# dropped ACTC1 because it had ridiculously high stdev in ALL samples\n",
    "ALL_full_df = ALL_full_df.drop('ACTC1')\n"
   ]
  },
  {
   "cell_type": "markdown",
   "metadata": {},
   "source": [
    "## 5. BRIEF exploratory analysis (skip to 6 for actual data lol)\n",
    "One would expect there to be a decrease in certainty of the posteriors based on a decrease in available data."
   ]
  },
  {
   "cell_type": "code",
   "execution_count": null,
   "metadata": {
    "scrolled": false
   },
   "outputs": [],
   "source": [
    "# Make a scatter plot\n",
    "\n",
    "mTm_df = ALL_full_df.filter(regex='mT_mean')\n",
    "plt.fig = pd.plotting.scatter_matrix(mTm_df, diagonal='hist', figsize=(10,10) \n",
    "                                )\n",
    "mTm_df = ALL_full_df.filter(regex='cov')\n",
    "plt.fig = pd.plotting.scatter_matrix(mTm_df, diagonal='hist', figsize=(10,10))\n",
    "\n",
    "plt.title('Scatter matrix of standard deviation of mL posterior',weight='bold')\n",
    "mTs_df = ALL_full_df.filter(regex='mT_stdev')\n",
    "pd.plotting.scatter_matrix(mTs_df, diagonal='hist', figsize=(10,10))\n",
    "# mLm_df = ALL_full_df.filter(regex='mL_mean')\n",
    "# pd.plotting.scatter_matrix(mLm_df, diagonal='hist')\n",
    "# mLs_df = ALL_full_df.filter(regex='mL_stdev')\n",
    "# pd.plotting.scatter_matrix(mLs_df, diagonal='hist')\n",
    "# plt.title('Scatter matrix of standard deviation of mL posterior',weight='bold')"
   ]
  },
  {
   "cell_type": "code",
   "execution_count": null,
   "metadata": {},
   "outputs": [],
   "source": [
    "print(ALL_full_df.columns)"
   ]
  },
  {
   "cell_type": "code",
   "execution_count": 8,
   "metadata": {},
   "outputs": [
    {
     "data": {
      "application/vnd.plotly.v1+json": {
       "config": {
        "plotlyServerURL": "https://plot.ly"
       },
       "data": [
        {
         "customdata": [
          [
           4494,
           "ACBD3",
           -1
          ],
          [
           3191,
           "ARL14EP",
           1
          ],
          [
           3180,
           "ARL4D",
           1
          ],
          [
           5290,
           "BMS1",
           1
          ],
          [
           6010,
           "BRWD3",
           -1
          ],
          [
           11285,
           "CCDC6",
           -1
          ],
          [
           4704,
           "CHAF1B",
           1
          ],
          [
           4182,
           "CHMP4B",
           1
          ],
          [
           8009,
           "CHSY1",
           -1
          ],
          [
           4238,
           "DUSP5",
           1
          ],
          [
           1792,
           "ENDOD1",
           1
          ],
          [
           2265,
           "GLRX5",
           1
          ],
          [
           1343,
           "KBTBD7",
           -1
          ],
          [
           8005,
           "KIF5B",
           -1
          ],
          [
           6228,
           "LEMD3",
           1
          ],
          [
           575,
           "LHFP",
           -1
          ],
          [
           2867,
           "MEX3B",
           -1
          ],
          [
           1155,
           "MT1X",
           1
          ],
          [
           8258,
           "NPTX1",
           -1
          ],
          [
           5410,
           "PARP4",
           -1
          ],
          [
           6123,
           "PIM3",
           1
          ],
          [
           10097,
           "PPP1R15B",
           -1
          ],
          [
           1420,
           "PPP1R3C",
           -1
          ],
          [
           7001,
           "PRKX",
           -1
          ],
          [
           4992,
           "RAB12",
           1
          ],
          [
           4697,
           "RBX1",
           1
          ],
          [
           17291,
           "SCD",
           1
          ],
          [
           4688,
           "SESN2",
           1
          ],
          [
           2966,
           "SLC25A5",
           1
          ],
          [
           4767,
           "SLC30A1",
           -1
          ],
          [
           4935,
           "SNAPC1",
           1
          ],
          [
           1660,
           "SOCS1",
           -1
          ],
          [
           187,
           "SOX8",
           1
          ],
          [
           79,
           "SPESP1",
           1
          ],
          [
           10132,
           "SPTSSA",
           -1
          ],
          [
           2375,
           "SUSD6",
           1
          ],
          [
           1762,
           "TET1",
           1
          ],
          [
           7018,
           "TM9SF2",
           1
          ],
          [
           10079,
           "TNKS2",
           1
          ],
          [
           10271,
           "TOB2",
           -1
          ],
          [
           1411,
           "ZNF14",
           -1
          ]
         ],
         "hovertemplate": "k562 1%_mT_stdev=%{x}<br>k562 100%_mT_stdev=%{y}<br>k562 100%_cov=%{customdata[0]}<br>gene=%{customdata[1]}<br>strand=%{customdata[2]}<br>k562 1%_cov=%{marker.color}<extra></extra>",
         "legendgroup": "",
         "marker": {
          "color": [
           43,
           41,
           48,
           71,
           73,
           111,
           54,
           54,
           96,
           34,
           18,
           22,
           17,
           60,
           65,
           7,
           26,
           8,
           65,
           53,
           58,
           102,
           23,
           82,
           49,
           48,
           167,
           42,
           28,
           55,
           53,
           17,
           2,
           1,
           96,
           21,
           26,
           66,
           97,
           102,
           11
          ],
          "coloraxis": "coloraxis",
          "symbol": "circle"
         },
         "mode": "markers",
         "name": "",
         "orientation": "v",
         "showlegend": false,
         "type": "scatter",
         "x": [
          3522.31,
          3587.81,
          2899.9,
          2323.17,
          2185.72,
          881.61,
          1811.77,
          1025.88,
          1342.07,
          3827.98,
          4908.21,
          2395.87,
          4255.71,
          1047.65,
          1592.95,
          8166.67,
          12421.15,
          5380.65,
          305.43,
          2713.98,
          2805.33,
          2071.36,
          270.5,
          3688.17,
          966.82,
          359.91,
          1277.78,
          913.31,
          182.58,
          565.35,
          3858.56,
          10705.74,
          9482.52,
          12023.48,
          565.86,
          1216.17,
          52.68,
          1410.92,
          1386.26,
          326.98,
          7000.1
         ],
         "xaxis": "x",
         "y": [
          321.93,
          160.51,
          407.44,
          85.91,
          83.24,
          77.53,
          222.57,
          113.83,
          151.75,
          246.2,
          638.12,
          129.61,
          148.89,
          75.89,
          127.89,
          1700.79,
          51.09,
          282.51,
          31.25,
          140.34,
          362.92,
          87.09,
          99.6,
          240.61,
          330.44,
          56.59,
          99.65,
          78.5,
          37.08,
          44.31,
          173.03,
          111.37,
          220.32,
          86.96,
          57.45,
          130.46,
          12.81,
          103.77,
          56.73,
          11.06,
          86.69
         ],
         "yaxis": "y"
        }
       ],
       "layout": {
        "coloraxis": {
         "colorbar": {
          "title": {
           "text": "k562 1%_cov"
          }
         },
         "colorscale": [
          [
           0,
           "#0d0887"
          ],
          [
           0.1111111111111111,
           "#46039f"
          ],
          [
           0.2222222222222222,
           "#7201a8"
          ],
          [
           0.3333333333333333,
           "#9c179e"
          ],
          [
           0.4444444444444444,
           "#bd3786"
          ],
          [
           0.5555555555555556,
           "#d8576b"
          ],
          [
           0.6666666666666666,
           "#ed7953"
          ],
          [
           0.7777777777777778,
           "#fb9f3a"
          ],
          [
           0.8888888888888888,
           "#fdca26"
          ],
          [
           1,
           "#f0f921"
          ]
         ]
        },
        "legend": {
         "tracegroupgap": 0
        },
        "margin": {
         "t": 60
        },
        "template": {
         "data": {
          "bar": [
           {
            "error_x": {
             "color": "#2a3f5f"
            },
            "error_y": {
             "color": "#2a3f5f"
            },
            "marker": {
             "line": {
              "color": "#E5ECF6",
              "width": 0.5
             },
             "pattern": {
              "fillmode": "overlay",
              "size": 10,
              "solidity": 0.2
             }
            },
            "type": "bar"
           }
          ],
          "barpolar": [
           {
            "marker": {
             "line": {
              "color": "#E5ECF6",
              "width": 0.5
             },
             "pattern": {
              "fillmode": "overlay",
              "size": 10,
              "solidity": 0.2
             }
            },
            "type": "barpolar"
           }
          ],
          "carpet": [
           {
            "aaxis": {
             "endlinecolor": "#2a3f5f",
             "gridcolor": "white",
             "linecolor": "white",
             "minorgridcolor": "white",
             "startlinecolor": "#2a3f5f"
            },
            "baxis": {
             "endlinecolor": "#2a3f5f",
             "gridcolor": "white",
             "linecolor": "white",
             "minorgridcolor": "white",
             "startlinecolor": "#2a3f5f"
            },
            "type": "carpet"
           }
          ],
          "choropleth": [
           {
            "colorbar": {
             "outlinewidth": 0,
             "ticks": ""
            },
            "type": "choropleth"
           }
          ],
          "contour": [
           {
            "colorbar": {
             "outlinewidth": 0,
             "ticks": ""
            },
            "colorscale": [
             [
              0,
              "#0d0887"
             ],
             [
              0.1111111111111111,
              "#46039f"
             ],
             [
              0.2222222222222222,
              "#7201a8"
             ],
             [
              0.3333333333333333,
              "#9c179e"
             ],
             [
              0.4444444444444444,
              "#bd3786"
             ],
             [
              0.5555555555555556,
              "#d8576b"
             ],
             [
              0.6666666666666666,
              "#ed7953"
             ],
             [
              0.7777777777777778,
              "#fb9f3a"
             ],
             [
              0.8888888888888888,
              "#fdca26"
             ],
             [
              1,
              "#f0f921"
             ]
            ],
            "type": "contour"
           }
          ],
          "contourcarpet": [
           {
            "colorbar": {
             "outlinewidth": 0,
             "ticks": ""
            },
            "type": "contourcarpet"
           }
          ],
          "heatmap": [
           {
            "colorbar": {
             "outlinewidth": 0,
             "ticks": ""
            },
            "colorscale": [
             [
              0,
              "#0d0887"
             ],
             [
              0.1111111111111111,
              "#46039f"
             ],
             [
              0.2222222222222222,
              "#7201a8"
             ],
             [
              0.3333333333333333,
              "#9c179e"
             ],
             [
              0.4444444444444444,
              "#bd3786"
             ],
             [
              0.5555555555555556,
              "#d8576b"
             ],
             [
              0.6666666666666666,
              "#ed7953"
             ],
             [
              0.7777777777777778,
              "#fb9f3a"
             ],
             [
              0.8888888888888888,
              "#fdca26"
             ],
             [
              1,
              "#f0f921"
             ]
            ],
            "type": "heatmap"
           }
          ],
          "heatmapgl": [
           {
            "colorbar": {
             "outlinewidth": 0,
             "ticks": ""
            },
            "colorscale": [
             [
              0,
              "#0d0887"
             ],
             [
              0.1111111111111111,
              "#46039f"
             ],
             [
              0.2222222222222222,
              "#7201a8"
             ],
             [
              0.3333333333333333,
              "#9c179e"
             ],
             [
              0.4444444444444444,
              "#bd3786"
             ],
             [
              0.5555555555555556,
              "#d8576b"
             ],
             [
              0.6666666666666666,
              "#ed7953"
             ],
             [
              0.7777777777777778,
              "#fb9f3a"
             ],
             [
              0.8888888888888888,
              "#fdca26"
             ],
             [
              1,
              "#f0f921"
             ]
            ],
            "type": "heatmapgl"
           }
          ],
          "histogram": [
           {
            "marker": {
             "pattern": {
              "fillmode": "overlay",
              "size": 10,
              "solidity": 0.2
             }
            },
            "type": "histogram"
           }
          ],
          "histogram2d": [
           {
            "colorbar": {
             "outlinewidth": 0,
             "ticks": ""
            },
            "colorscale": [
             [
              0,
              "#0d0887"
             ],
             [
              0.1111111111111111,
              "#46039f"
             ],
             [
              0.2222222222222222,
              "#7201a8"
             ],
             [
              0.3333333333333333,
              "#9c179e"
             ],
             [
              0.4444444444444444,
              "#bd3786"
             ],
             [
              0.5555555555555556,
              "#d8576b"
             ],
             [
              0.6666666666666666,
              "#ed7953"
             ],
             [
              0.7777777777777778,
              "#fb9f3a"
             ],
             [
              0.8888888888888888,
              "#fdca26"
             ],
             [
              1,
              "#f0f921"
             ]
            ],
            "type": "histogram2d"
           }
          ],
          "histogram2dcontour": [
           {
            "colorbar": {
             "outlinewidth": 0,
             "ticks": ""
            },
            "colorscale": [
             [
              0,
              "#0d0887"
             ],
             [
              0.1111111111111111,
              "#46039f"
             ],
             [
              0.2222222222222222,
              "#7201a8"
             ],
             [
              0.3333333333333333,
              "#9c179e"
             ],
             [
              0.4444444444444444,
              "#bd3786"
             ],
             [
              0.5555555555555556,
              "#d8576b"
             ],
             [
              0.6666666666666666,
              "#ed7953"
             ],
             [
              0.7777777777777778,
              "#fb9f3a"
             ],
             [
              0.8888888888888888,
              "#fdca26"
             ],
             [
              1,
              "#f0f921"
             ]
            ],
            "type": "histogram2dcontour"
           }
          ],
          "mesh3d": [
           {
            "colorbar": {
             "outlinewidth": 0,
             "ticks": ""
            },
            "type": "mesh3d"
           }
          ],
          "parcoords": [
           {
            "line": {
             "colorbar": {
              "outlinewidth": 0,
              "ticks": ""
             }
            },
            "type": "parcoords"
           }
          ],
          "pie": [
           {
            "automargin": true,
            "type": "pie"
           }
          ],
          "scatter": [
           {
            "fillpattern": {
             "fillmode": "overlay",
             "size": 10,
             "solidity": 0.2
            },
            "type": "scatter"
           }
          ],
          "scatter3d": [
           {
            "line": {
             "colorbar": {
              "outlinewidth": 0,
              "ticks": ""
             }
            },
            "marker": {
             "colorbar": {
              "outlinewidth": 0,
              "ticks": ""
             }
            },
            "type": "scatter3d"
           }
          ],
          "scattercarpet": [
           {
            "marker": {
             "colorbar": {
              "outlinewidth": 0,
              "ticks": ""
             }
            },
            "type": "scattercarpet"
           }
          ],
          "scattergeo": [
           {
            "marker": {
             "colorbar": {
              "outlinewidth": 0,
              "ticks": ""
             }
            },
            "type": "scattergeo"
           }
          ],
          "scattergl": [
           {
            "marker": {
             "colorbar": {
              "outlinewidth": 0,
              "ticks": ""
             }
            },
            "type": "scattergl"
           }
          ],
          "scattermapbox": [
           {
            "marker": {
             "colorbar": {
              "outlinewidth": 0,
              "ticks": ""
             }
            },
            "type": "scattermapbox"
           }
          ],
          "scatterpolar": [
           {
            "marker": {
             "colorbar": {
              "outlinewidth": 0,
              "ticks": ""
             }
            },
            "type": "scatterpolar"
           }
          ],
          "scatterpolargl": [
           {
            "marker": {
             "colorbar": {
              "outlinewidth": 0,
              "ticks": ""
             }
            },
            "type": "scatterpolargl"
           }
          ],
          "scatterternary": [
           {
            "marker": {
             "colorbar": {
              "outlinewidth": 0,
              "ticks": ""
             }
            },
            "type": "scatterternary"
           }
          ],
          "surface": [
           {
            "colorbar": {
             "outlinewidth": 0,
             "ticks": ""
            },
            "colorscale": [
             [
              0,
              "#0d0887"
             ],
             [
              0.1111111111111111,
              "#46039f"
             ],
             [
              0.2222222222222222,
              "#7201a8"
             ],
             [
              0.3333333333333333,
              "#9c179e"
             ],
             [
              0.4444444444444444,
              "#bd3786"
             ],
             [
              0.5555555555555556,
              "#d8576b"
             ],
             [
              0.6666666666666666,
              "#ed7953"
             ],
             [
              0.7777777777777778,
              "#fb9f3a"
             ],
             [
              0.8888888888888888,
              "#fdca26"
             ],
             [
              1,
              "#f0f921"
             ]
            ],
            "type": "surface"
           }
          ],
          "table": [
           {
            "cells": {
             "fill": {
              "color": "#EBF0F8"
             },
             "line": {
              "color": "white"
             }
            },
            "header": {
             "fill": {
              "color": "#C8D4E3"
             },
             "line": {
              "color": "white"
             }
            },
            "type": "table"
           }
          ]
         },
         "layout": {
          "annotationdefaults": {
           "arrowcolor": "#2a3f5f",
           "arrowhead": 0,
           "arrowwidth": 1
          },
          "autotypenumbers": "strict",
          "coloraxis": {
           "colorbar": {
            "outlinewidth": 0,
            "ticks": ""
           }
          },
          "colorscale": {
           "diverging": [
            [
             0,
             "#8e0152"
            ],
            [
             0.1,
             "#c51b7d"
            ],
            [
             0.2,
             "#de77ae"
            ],
            [
             0.3,
             "#f1b6da"
            ],
            [
             0.4,
             "#fde0ef"
            ],
            [
             0.5,
             "#f7f7f7"
            ],
            [
             0.6,
             "#e6f5d0"
            ],
            [
             0.7,
             "#b8e186"
            ],
            [
             0.8,
             "#7fbc41"
            ],
            [
             0.9,
             "#4d9221"
            ],
            [
             1,
             "#276419"
            ]
           ],
           "sequential": [
            [
             0,
             "#0d0887"
            ],
            [
             0.1111111111111111,
             "#46039f"
            ],
            [
             0.2222222222222222,
             "#7201a8"
            ],
            [
             0.3333333333333333,
             "#9c179e"
            ],
            [
             0.4444444444444444,
             "#bd3786"
            ],
            [
             0.5555555555555556,
             "#d8576b"
            ],
            [
             0.6666666666666666,
             "#ed7953"
            ],
            [
             0.7777777777777778,
             "#fb9f3a"
            ],
            [
             0.8888888888888888,
             "#fdca26"
            ],
            [
             1,
             "#f0f921"
            ]
           ],
           "sequentialminus": [
            [
             0,
             "#0d0887"
            ],
            [
             0.1111111111111111,
             "#46039f"
            ],
            [
             0.2222222222222222,
             "#7201a8"
            ],
            [
             0.3333333333333333,
             "#9c179e"
            ],
            [
             0.4444444444444444,
             "#bd3786"
            ],
            [
             0.5555555555555556,
             "#d8576b"
            ],
            [
             0.6666666666666666,
             "#ed7953"
            ],
            [
             0.7777777777777778,
             "#fb9f3a"
            ],
            [
             0.8888888888888888,
             "#fdca26"
            ],
            [
             1,
             "#f0f921"
            ]
           ]
          },
          "colorway": [
           "#636efa",
           "#EF553B",
           "#00cc96",
           "#ab63fa",
           "#FFA15A",
           "#19d3f3",
           "#FF6692",
           "#B6E880",
           "#FF97FF",
           "#FECB52"
          ],
          "font": {
           "color": "#2a3f5f"
          },
          "geo": {
           "bgcolor": "white",
           "lakecolor": "white",
           "landcolor": "#E5ECF6",
           "showlakes": true,
           "showland": true,
           "subunitcolor": "white"
          },
          "hoverlabel": {
           "align": "left"
          },
          "hovermode": "closest",
          "mapbox": {
           "style": "light"
          },
          "paper_bgcolor": "white",
          "plot_bgcolor": "#E5ECF6",
          "polar": {
           "angularaxis": {
            "gridcolor": "white",
            "linecolor": "white",
            "ticks": ""
           },
           "bgcolor": "#E5ECF6",
           "radialaxis": {
            "gridcolor": "white",
            "linecolor": "white",
            "ticks": ""
           }
          },
          "scene": {
           "xaxis": {
            "backgroundcolor": "#E5ECF6",
            "gridcolor": "white",
            "gridwidth": 2,
            "linecolor": "white",
            "showbackground": true,
            "ticks": "",
            "zerolinecolor": "white"
           },
           "yaxis": {
            "backgroundcolor": "#E5ECF6",
            "gridcolor": "white",
            "gridwidth": 2,
            "linecolor": "white",
            "showbackground": true,
            "ticks": "",
            "zerolinecolor": "white"
           },
           "zaxis": {
            "backgroundcolor": "#E5ECF6",
            "gridcolor": "white",
            "gridwidth": 2,
            "linecolor": "white",
            "showbackground": true,
            "ticks": "",
            "zerolinecolor": "white"
           }
          },
          "shapedefaults": {
           "line": {
            "color": "#2a3f5f"
           }
          },
          "ternary": {
           "aaxis": {
            "gridcolor": "white",
            "linecolor": "white",
            "ticks": ""
           },
           "baxis": {
            "gridcolor": "white",
            "linecolor": "white",
            "ticks": ""
           },
           "bgcolor": "#E5ECF6",
           "caxis": {
            "gridcolor": "white",
            "linecolor": "white",
            "ticks": ""
           }
          },
          "title": {
           "x": 0.05
          },
          "xaxis": {
           "automargin": true,
           "gridcolor": "white",
           "linecolor": "white",
           "ticks": "",
           "title": {
            "standoff": 15
           },
           "zerolinecolor": "white",
           "zerolinewidth": 2
          },
          "yaxis": {
           "automargin": true,
           "gridcolor": "white",
           "linecolor": "white",
           "ticks": "",
           "title": {
            "standoff": 15
           },
           "zerolinecolor": "white",
           "zerolinewidth": 2
          }
         }
        },
        "xaxis": {
         "anchor": "y",
         "domain": [
          0,
          1
         ],
         "title": {
          "text": "k562 1%_mT_stdev"
         }
        },
        "yaxis": {
         "anchor": "x",
         "domain": [
          0,
          1
         ],
         "title": {
          "text": "k562 100%_mT_stdev"
         }
        }
       }
      },
      "text/html": [
       "<div>                            <div id=\"0649edf5-d7af-4264-8484-79b63262fb82\" class=\"plotly-graph-div\" style=\"height:525px; width:100%;\"></div>            <script type=\"text/javascript\">                require([\"plotly\"], function(Plotly) {                    window.PLOTLYENV=window.PLOTLYENV || {};                                    if (document.getElementById(\"0649edf5-d7af-4264-8484-79b63262fb82\")) {                    Plotly.newPlot(                        \"0649edf5-d7af-4264-8484-79b63262fb82\",                        [{\"customdata\":[[4494,\"ACBD3\",-1],[3191,\"ARL14EP\",1],[3180,\"ARL4D\",1],[5290,\"BMS1\",1],[6010,\"BRWD3\",-1],[11285,\"CCDC6\",-1],[4704,\"CHAF1B\",1],[4182,\"CHMP4B\",1],[8009,\"CHSY1\",-1],[4238,\"DUSP5\",1],[1792,\"ENDOD1\",1],[2265,\"GLRX5\",1],[1343,\"KBTBD7\",-1],[8005,\"KIF5B\",-1],[6228,\"LEMD3\",1],[575,\"LHFP\",-1],[2867,\"MEX3B\",-1],[1155,\"MT1X\",1],[8258,\"NPTX1\",-1],[5410,\"PARP4\",-1],[6123,\"PIM3\",1],[10097,\"PPP1R15B\",-1],[1420,\"PPP1R3C\",-1],[7001,\"PRKX\",-1],[4992,\"RAB12\",1],[4697,\"RBX1\",1],[17291,\"SCD\",1],[4688,\"SESN2\",1],[2966,\"SLC25A5\",1],[4767,\"SLC30A1\",-1],[4935,\"SNAPC1\",1],[1660,\"SOCS1\",-1],[187,\"SOX8\",1],[79,\"SPESP1\",1],[10132,\"SPTSSA\",-1],[2375,\"SUSD6\",1],[1762,\"TET1\",1],[7018,\"TM9SF2\",1],[10079,\"TNKS2\",1],[10271,\"TOB2\",-1],[1411,\"ZNF14\",-1]],\"hovertemplate\":\"k562 1%_mT_stdev=%{x}<br>k562 100%_mT_stdev=%{y}<br>k562 100%_cov=%{customdata[0]}<br>gene=%{customdata[1]}<br>strand=%{customdata[2]}<br>k562 1%_cov=%{marker.color}<extra></extra>\",\"legendgroup\":\"\",\"marker\":{\"color\":[43,41,48,71,73,111,54,54,96,34,18,22,17,60,65,7,26,8,65,53,58,102,23,82,49,48,167,42,28,55,53,17,2,1,96,21,26,66,97,102,11],\"coloraxis\":\"coloraxis\",\"symbol\":\"circle\"},\"mode\":\"markers\",\"name\":\"\",\"orientation\":\"v\",\"showlegend\":false,\"x\":[3522.31,3587.81,2899.9,2323.17,2185.72,881.61,1811.77,1025.88,1342.07,3827.98,4908.21,2395.87,4255.71,1047.65,1592.95,8166.67,12421.15,5380.65,305.43,2713.98,2805.33,2071.36,270.5,3688.17,966.82,359.91,1277.78,913.31,182.58,565.35,3858.56,10705.74,9482.52,12023.48,565.86,1216.17,52.68,1410.92,1386.26,326.98,7000.1],\"xaxis\":\"x\",\"y\":[321.93,160.51,407.44,85.91,83.24,77.53,222.57,113.83,151.75,246.2,638.12,129.61,148.89,75.89,127.89,1700.79,51.09,282.51,31.25,140.34,362.92,87.09,99.6,240.61,330.44,56.59,99.65,78.5,37.08,44.31,173.03,111.37,220.32,86.96,57.45,130.46,12.81,103.77,56.73,11.06,86.69],\"yaxis\":\"y\",\"type\":\"scatter\"}],                        {\"template\":{\"data\":{\"histogram2dcontour\":[{\"type\":\"histogram2dcontour\",\"colorbar\":{\"outlinewidth\":0,\"ticks\":\"\"},\"colorscale\":[[0.0,\"#0d0887\"],[0.1111111111111111,\"#46039f\"],[0.2222222222222222,\"#7201a8\"],[0.3333333333333333,\"#9c179e\"],[0.4444444444444444,\"#bd3786\"],[0.5555555555555556,\"#d8576b\"],[0.6666666666666666,\"#ed7953\"],[0.7777777777777778,\"#fb9f3a\"],[0.8888888888888888,\"#fdca26\"],[1.0,\"#f0f921\"]]}],\"choropleth\":[{\"type\":\"choropleth\",\"colorbar\":{\"outlinewidth\":0,\"ticks\":\"\"}}],\"histogram2d\":[{\"type\":\"histogram2d\",\"colorbar\":{\"outlinewidth\":0,\"ticks\":\"\"},\"colorscale\":[[0.0,\"#0d0887\"],[0.1111111111111111,\"#46039f\"],[0.2222222222222222,\"#7201a8\"],[0.3333333333333333,\"#9c179e\"],[0.4444444444444444,\"#bd3786\"],[0.5555555555555556,\"#d8576b\"],[0.6666666666666666,\"#ed7953\"],[0.7777777777777778,\"#fb9f3a\"],[0.8888888888888888,\"#fdca26\"],[1.0,\"#f0f921\"]]}],\"heatmap\":[{\"type\":\"heatmap\",\"colorbar\":{\"outlinewidth\":0,\"ticks\":\"\"},\"colorscale\":[[0.0,\"#0d0887\"],[0.1111111111111111,\"#46039f\"],[0.2222222222222222,\"#7201a8\"],[0.3333333333333333,\"#9c179e\"],[0.4444444444444444,\"#bd3786\"],[0.5555555555555556,\"#d8576b\"],[0.6666666666666666,\"#ed7953\"],[0.7777777777777778,\"#fb9f3a\"],[0.8888888888888888,\"#fdca26\"],[1.0,\"#f0f921\"]]}],\"heatmapgl\":[{\"type\":\"heatmapgl\",\"colorbar\":{\"outlinewidth\":0,\"ticks\":\"\"},\"colorscale\":[[0.0,\"#0d0887\"],[0.1111111111111111,\"#46039f\"],[0.2222222222222222,\"#7201a8\"],[0.3333333333333333,\"#9c179e\"],[0.4444444444444444,\"#bd3786\"],[0.5555555555555556,\"#d8576b\"],[0.6666666666666666,\"#ed7953\"],[0.7777777777777778,\"#fb9f3a\"],[0.8888888888888888,\"#fdca26\"],[1.0,\"#f0f921\"]]}],\"contourcarpet\":[{\"type\":\"contourcarpet\",\"colorbar\":{\"outlinewidth\":0,\"ticks\":\"\"}}],\"contour\":[{\"type\":\"contour\",\"colorbar\":{\"outlinewidth\":0,\"ticks\":\"\"},\"colorscale\":[[0.0,\"#0d0887\"],[0.1111111111111111,\"#46039f\"],[0.2222222222222222,\"#7201a8\"],[0.3333333333333333,\"#9c179e\"],[0.4444444444444444,\"#bd3786\"],[0.5555555555555556,\"#d8576b\"],[0.6666666666666666,\"#ed7953\"],[0.7777777777777778,\"#fb9f3a\"],[0.8888888888888888,\"#fdca26\"],[1.0,\"#f0f921\"]]}],\"surface\":[{\"type\":\"surface\",\"colorbar\":{\"outlinewidth\":0,\"ticks\":\"\"},\"colorscale\":[[0.0,\"#0d0887\"],[0.1111111111111111,\"#46039f\"],[0.2222222222222222,\"#7201a8\"],[0.3333333333333333,\"#9c179e\"],[0.4444444444444444,\"#bd3786\"],[0.5555555555555556,\"#d8576b\"],[0.6666666666666666,\"#ed7953\"],[0.7777777777777778,\"#fb9f3a\"],[0.8888888888888888,\"#fdca26\"],[1.0,\"#f0f921\"]]}],\"mesh3d\":[{\"type\":\"mesh3d\",\"colorbar\":{\"outlinewidth\":0,\"ticks\":\"\"}}],\"scatter\":[{\"fillpattern\":{\"fillmode\":\"overlay\",\"size\":10,\"solidity\":0.2},\"type\":\"scatter\"}],\"parcoords\":[{\"type\":\"parcoords\",\"line\":{\"colorbar\":{\"outlinewidth\":0,\"ticks\":\"\"}}}],\"scatterpolargl\":[{\"type\":\"scatterpolargl\",\"marker\":{\"colorbar\":{\"outlinewidth\":0,\"ticks\":\"\"}}}],\"bar\":[{\"error_x\":{\"color\":\"#2a3f5f\"},\"error_y\":{\"color\":\"#2a3f5f\"},\"marker\":{\"line\":{\"color\":\"#E5ECF6\",\"width\":0.5},\"pattern\":{\"fillmode\":\"overlay\",\"size\":10,\"solidity\":0.2}},\"type\":\"bar\"}],\"scattergeo\":[{\"type\":\"scattergeo\",\"marker\":{\"colorbar\":{\"outlinewidth\":0,\"ticks\":\"\"}}}],\"scatterpolar\":[{\"type\":\"scatterpolar\",\"marker\":{\"colorbar\":{\"outlinewidth\":0,\"ticks\":\"\"}}}],\"histogram\":[{\"marker\":{\"pattern\":{\"fillmode\":\"overlay\",\"size\":10,\"solidity\":0.2}},\"type\":\"histogram\"}],\"scattergl\":[{\"type\":\"scattergl\",\"marker\":{\"colorbar\":{\"outlinewidth\":0,\"ticks\":\"\"}}}],\"scatter3d\":[{\"type\":\"scatter3d\",\"line\":{\"colorbar\":{\"outlinewidth\":0,\"ticks\":\"\"}},\"marker\":{\"colorbar\":{\"outlinewidth\":0,\"ticks\":\"\"}}}],\"scattermapbox\":[{\"type\":\"scattermapbox\",\"marker\":{\"colorbar\":{\"outlinewidth\":0,\"ticks\":\"\"}}}],\"scatterternary\":[{\"type\":\"scatterternary\",\"marker\":{\"colorbar\":{\"outlinewidth\":0,\"ticks\":\"\"}}}],\"scattercarpet\":[{\"type\":\"scattercarpet\",\"marker\":{\"colorbar\":{\"outlinewidth\":0,\"ticks\":\"\"}}}],\"carpet\":[{\"aaxis\":{\"endlinecolor\":\"#2a3f5f\",\"gridcolor\":\"white\",\"linecolor\":\"white\",\"minorgridcolor\":\"white\",\"startlinecolor\":\"#2a3f5f\"},\"baxis\":{\"endlinecolor\":\"#2a3f5f\",\"gridcolor\":\"white\",\"linecolor\":\"white\",\"minorgridcolor\":\"white\",\"startlinecolor\":\"#2a3f5f\"},\"type\":\"carpet\"}],\"table\":[{\"cells\":{\"fill\":{\"color\":\"#EBF0F8\"},\"line\":{\"color\":\"white\"}},\"header\":{\"fill\":{\"color\":\"#C8D4E3\"},\"line\":{\"color\":\"white\"}},\"type\":\"table\"}],\"barpolar\":[{\"marker\":{\"line\":{\"color\":\"#E5ECF6\",\"width\":0.5},\"pattern\":{\"fillmode\":\"overlay\",\"size\":10,\"solidity\":0.2}},\"type\":\"barpolar\"}],\"pie\":[{\"automargin\":true,\"type\":\"pie\"}]},\"layout\":{\"autotypenumbers\":\"strict\",\"colorway\":[\"#636efa\",\"#EF553B\",\"#00cc96\",\"#ab63fa\",\"#FFA15A\",\"#19d3f3\",\"#FF6692\",\"#B6E880\",\"#FF97FF\",\"#FECB52\"],\"font\":{\"color\":\"#2a3f5f\"},\"hovermode\":\"closest\",\"hoverlabel\":{\"align\":\"left\"},\"paper_bgcolor\":\"white\",\"plot_bgcolor\":\"#E5ECF6\",\"polar\":{\"bgcolor\":\"#E5ECF6\",\"angularaxis\":{\"gridcolor\":\"white\",\"linecolor\":\"white\",\"ticks\":\"\"},\"radialaxis\":{\"gridcolor\":\"white\",\"linecolor\":\"white\",\"ticks\":\"\"}},\"ternary\":{\"bgcolor\":\"#E5ECF6\",\"aaxis\":{\"gridcolor\":\"white\",\"linecolor\":\"white\",\"ticks\":\"\"},\"baxis\":{\"gridcolor\":\"white\",\"linecolor\":\"white\",\"ticks\":\"\"},\"caxis\":{\"gridcolor\":\"white\",\"linecolor\":\"white\",\"ticks\":\"\"}},\"coloraxis\":{\"colorbar\":{\"outlinewidth\":0,\"ticks\":\"\"}},\"colorscale\":{\"sequential\":[[0.0,\"#0d0887\"],[0.1111111111111111,\"#46039f\"],[0.2222222222222222,\"#7201a8\"],[0.3333333333333333,\"#9c179e\"],[0.4444444444444444,\"#bd3786\"],[0.5555555555555556,\"#d8576b\"],[0.6666666666666666,\"#ed7953\"],[0.7777777777777778,\"#fb9f3a\"],[0.8888888888888888,\"#fdca26\"],[1.0,\"#f0f921\"]],\"sequentialminus\":[[0.0,\"#0d0887\"],[0.1111111111111111,\"#46039f\"],[0.2222222222222222,\"#7201a8\"],[0.3333333333333333,\"#9c179e\"],[0.4444444444444444,\"#bd3786\"],[0.5555555555555556,\"#d8576b\"],[0.6666666666666666,\"#ed7953\"],[0.7777777777777778,\"#fb9f3a\"],[0.8888888888888888,\"#fdca26\"],[1.0,\"#f0f921\"]],\"diverging\":[[0,\"#8e0152\"],[0.1,\"#c51b7d\"],[0.2,\"#de77ae\"],[0.3,\"#f1b6da\"],[0.4,\"#fde0ef\"],[0.5,\"#f7f7f7\"],[0.6,\"#e6f5d0\"],[0.7,\"#b8e186\"],[0.8,\"#7fbc41\"],[0.9,\"#4d9221\"],[1,\"#276419\"]]},\"xaxis\":{\"gridcolor\":\"white\",\"linecolor\":\"white\",\"ticks\":\"\",\"title\":{\"standoff\":15},\"zerolinecolor\":\"white\",\"automargin\":true,\"zerolinewidth\":2},\"yaxis\":{\"gridcolor\":\"white\",\"linecolor\":\"white\",\"ticks\":\"\",\"title\":{\"standoff\":15},\"zerolinecolor\":\"white\",\"automargin\":true,\"zerolinewidth\":2},\"scene\":{\"xaxis\":{\"backgroundcolor\":\"#E5ECF6\",\"gridcolor\":\"white\",\"linecolor\":\"white\",\"showbackground\":true,\"ticks\":\"\",\"zerolinecolor\":\"white\",\"gridwidth\":2},\"yaxis\":{\"backgroundcolor\":\"#E5ECF6\",\"gridcolor\":\"white\",\"linecolor\":\"white\",\"showbackground\":true,\"ticks\":\"\",\"zerolinecolor\":\"white\",\"gridwidth\":2},\"zaxis\":{\"backgroundcolor\":\"#E5ECF6\",\"gridcolor\":\"white\",\"linecolor\":\"white\",\"showbackground\":true,\"ticks\":\"\",\"zerolinecolor\":\"white\",\"gridwidth\":2}},\"shapedefaults\":{\"line\":{\"color\":\"#2a3f5f\"}},\"annotationdefaults\":{\"arrowcolor\":\"#2a3f5f\",\"arrowhead\":0,\"arrowwidth\":1},\"geo\":{\"bgcolor\":\"white\",\"landcolor\":\"#E5ECF6\",\"subunitcolor\":\"white\",\"showland\":true,\"showlakes\":true,\"lakecolor\":\"white\"},\"title\":{\"x\":0.05},\"mapbox\":{\"style\":\"light\"}}},\"xaxis\":{\"anchor\":\"y\",\"domain\":[0.0,1.0],\"title\":{\"text\":\"k562 1%_mT_stdev\"}},\"yaxis\":{\"anchor\":\"x\",\"domain\":[0.0,1.0],\"title\":{\"text\":\"k562 100%_mT_stdev\"}},\"coloraxis\":{\"colorbar\":{\"title\":{\"text\":\"k562 1%_cov\"}},\"colorscale\":[[0.0,\"#0d0887\"],[0.1111111111111111,\"#46039f\"],[0.2222222222222222,\"#7201a8\"],[0.3333333333333333,\"#9c179e\"],[0.4444444444444444,\"#bd3786\"],[0.5555555555555556,\"#d8576b\"],[0.6666666666666666,\"#ed7953\"],[0.7777777777777778,\"#fb9f3a\"],[0.8888888888888888,\"#fdca26\"],[1.0,\"#f0f921\"]]},\"legend\":{\"tracegroupgap\":0},\"margin\":{\"t\":60}},                        {\"responsive\": true}                    ).then(function(){\n",
       "                            \n",
       "var gd = document.getElementById('0649edf5-d7af-4264-8484-79b63262fb82');\n",
       "var x = new MutationObserver(function (mutations, observer) {{\n",
       "        var display = window.getComputedStyle(gd).display;\n",
       "        if (!display || display === 'none') {{\n",
       "            console.log([gd, 'removed!']);\n",
       "            Plotly.purge(gd);\n",
       "            observer.disconnect();\n",
       "        }}\n",
       "}});\n",
       "\n",
       "// Listen for the removal of the full notebook cells\n",
       "var notebookContainer = gd.closest('#notebook-container');\n",
       "if (notebookContainer) {{\n",
       "    x.observe(notebookContainer, {childList: true});\n",
       "}}\n",
       "\n",
       "// Listen for the clearing of the current output cell\n",
       "var outputEl = gd.closest('.output');\n",
       "if (outputEl) {{\n",
       "    x.observe(outputEl, {childList: true});\n",
       "}}\n",
       "\n",
       "                        })                };                });            </script>        </div>"
      ]
     },
     "metadata": {},
     "output_type": "display_data"
    },
    {
     "data": {
      "application/vnd.plotly.v1+json": {
       "config": {
        "plotlyServerURL": "https://plot.ly"
       },
       "data": [
        {
         "customdata": [
          [
           4494,
           "ACBD3",
           -1,
           321.93,
           3522.31,
           -11.01,
           -49.95
          ],
          [
           3191,
           "ARL14EP",
           1,
           160.51,
           3587.81,
           12.2,
           23.02
          ],
          [
           3180,
           "ARL4D",
           1,
           407.44,
           2899.9,
           -22.45,
           -38.52
          ],
          [
           5290,
           "BMS1",
           1,
           85.91,
           2323.17,
           4.44,
           -17.69
          ],
          [
           6010,
           "BRWD3",
           -1,
           83.24,
           2185.72,
           29.87,
           28.58
          ],
          [
           11285,
           "CCDC6",
           -1,
           77.53,
           881.61,
           -13.46,
           -57.69
          ],
          [
           4704,
           "CHAF1B",
           1,
           222.57,
           1811.77,
           -29.82,
           -72.92
          ],
          [
           4182,
           "CHMP4B",
           1,
           113.83,
           1025.88,
           -6.54,
           -64.75
          ],
          [
           8009,
           "CHSY1",
           -1,
           151.75,
           1342.07,
           -4.76,
           -55.35
          ],
          [
           4238,
           "DUSP5",
           1,
           246.2,
           3827.98,
           -9.09,
           -66.45
          ],
          [
           1792,
           "ENDOD1",
           1,
           638.12,
           4908.21,
           -9.64,
           -13.11
          ],
          [
           2265,
           "GLRX5",
           1,
           129.61,
           2395.87,
           19.5,
           -49.84
          ],
          [
           1343,
           "KBTBD7",
           -1,
           148.89,
           4255.71,
           -0.3,
           -42.68
          ],
          [
           8005,
           "KIF5B",
           -1,
           75.89,
           1047.65,
           -15.84,
           -41.92
          ],
          [
           6228,
           "LEMD3",
           1,
           127.89,
           1592.95,
           -14.91,
           -62.47
          ],
          [
           575,
           "LHFP",
           -1,
           1700.79,
           8166.67,
           -16.56,
           7.34
          ],
          [
           2867,
           "MEX3B",
           -1,
           51.09,
           12421.15,
           -9.95,
           -68.74
          ],
          [
           1155,
           "MT1X",
           1,
           282.51,
           5380.65,
           -2.88,
           -57.41
          ],
          [
           8258,
           "NPTX1",
           -1,
           31.25,
           305.43,
           -35.35,
           -68.17
          ],
          [
           5410,
           "PARP4",
           -1,
           140.34,
           2713.98,
           37.45,
           20.88
          ],
          [
           6123,
           "PIM3",
           1,
           362.92,
           2805.33,
           -24.15,
           15.93
          ],
          [
           10097,
           "PPP1R15B",
           -1,
           87.09,
           2071.36,
           36.7,
           -33.15
          ],
          [
           1420,
           "PPP1R3C",
           -1,
           99.6,
           270.5,
           -16.23,
           -51.26
          ],
          [
           7001,
           "PRKX",
           -1,
           240.61,
           3688.17,
           1.05,
           -25.22
          ],
          [
           4992,
           "RAB12",
           1,
           330.44,
           966.82,
           7.16,
           -35.42
          ],
          [
           4697,
           "RBX1",
           1,
           56.59,
           359.91,
           -0.31,
           -58.65
          ],
          [
           17291,
           "SCD",
           1,
           99.65,
           1277.78,
           24.62,
           26.58
          ],
          [
           4688,
           "SESN2",
           1,
           78.5,
           913.31,
           -33.75,
           -68.68
          ],
          [
           2966,
           "SLC25A5",
           1,
           37.08,
           182.58,
           -3.68,
           -10.3
          ],
          [
           4767,
           "SLC30A1",
           -1,
           44.31,
           565.35,
           -9.91,
           -55.17
          ],
          [
           4935,
           "SNAPC1",
           1,
           173.03,
           3858.56,
           1.56,
           -54.27
          ],
          [
           1660,
           "SOCS1",
           -1,
           111.37,
           10705.74,
           -27.18,
           -55.96
          ],
          [
           187,
           "SOX8",
           1,
           220.32,
           9482.52,
           6.4,
           -8.52
          ],
          [
           79,
           "SPESP1",
           1,
           86.96,
           12023.48,
           7.22,
           -18.66
          ],
          [
           10132,
           "SPTSSA",
           -1,
           57.45,
           565.86,
           -14.62,
           -58.76
          ],
          [
           2375,
           "SUSD6",
           1,
           130.46,
           1216.17,
           -1.71,
           -42.78
          ],
          [
           1762,
           "TET1",
           1,
           12.81,
           52.68,
           13.38,
           -3.42
          ],
          [
           7018,
           "TM9SF2",
           1,
           103.77,
           1410.92,
           24.67,
           20.43
          ],
          [
           10079,
           "TNKS2",
           1,
           56.73,
           1386.26,
           20.66,
           -55.08
          ],
          [
           10271,
           "TOB2",
           -1,
           11.06,
           326.98,
           -17.85,
           -49.51
          ],
          [
           1411,
           "ZNF14",
           -1,
           86.69,
           7000.1,
           -4.14,
           -31.93
          ]
         ],
         "hovertemplate": "k562 1%_mT_mean=%{x}<br>k562 100%_mT_mean=%{y}<br>k562 100%_cov=%{customdata[0]}<br>gene=%{customdata[1]}<br>strand=%{customdata[2]}<br>k562 100%_mT_stdev=%{customdata[3]}<br>k562 1%_mT_stdev=%{customdata[4]}<br>k562 1%_mL_mean=%{customdata[5]}<br>k562 100%_mL_mean=%{customdata[6]}<br>k562 1%_cov=%{marker.color}<extra></extra>",
         "legendgroup": "",
         "marker": {
          "color": [
           43,
           41,
           48,
           71,
           73,
           111,
           54,
           54,
           96,
           34,
           18,
           22,
           17,
           60,
           65,
           7,
           26,
           8,
           65,
           53,
           58,
           102,
           23,
           82,
           49,
           48,
           167,
           42,
           28,
           55,
           53,
           17,
           2,
           1,
           96,
           21,
           26,
           66,
           97,
           102,
           11
          ],
          "coloraxis": "coloraxis",
          "symbol": "circle"
         },
         "mode": "markers",
         "name": "",
         "orientation": "v",
         "showlegend": false,
         "type": "scatter",
         "x": [
          10638.29,
          3692.9300000000003,
          3876.6000000000004,
          2569.75,
          8412.190000000002,
          5354.710000000006,
          5831.989999999998,
          3320.5,
          3070.679999999993,
          12306.34,
          4963.709999999999,
          3263.9699999999993,
          4450.03,
          11445.779999999999,
          3908.5800000000017,
          7709.659999999974,
          8020.33,
          3620.96,
          17111.83,
          2700.429999999993,
          2626.87,
          4710.969999999999,
          21550.85,
          4890.580000000002,
          3082.2599999999984,
          460.77999999999884,
          11217.220000000001,
          3129.0099999999984,
          1025.4699999999998,
          2214.9399999999996,
          3571.1500000000015,
          8629.63,
          15657.380000000001,
          13530.529999999999,
          3455.0200000000004,
          5651.050000000003,
          29619.179999999993,
          2224.1399999999994,
          4476.850000000006,
          4472.33,
          5444.6500000000015
         ],
         "xaxis": "x",
         "y": [
          10353.89,
          6127.25,
          6528.03,
          2762.3300000000017,
          11122.869999999995,
          5241.820000000007,
          8621.089999999997,
          4737.1500000000015,
          5691.309999999998,
          2656.7800000000007,
          1165.2699999999968,
          4135.33,
          3221.3900000000003,
          11245.68,
          5259.360000000001,
          9980.320000000007,
          1948.08,
          268.96000000000004,
          17161.85,
          2828.449999999997,
          5245.41,
          2088.84,
          22511.79,
          12601.179999999993,
          3507.8499999999985,
          1213.3199999999997,
          8113.279999999999,
          3132.2700000000004,
          1525.33,
          2676.05,
          3290.1900000000023,
          3444.54,
          15989.98,
          17935.589999999997,
          4149.470000000001,
          4971.989999999998,
          29562.459999999992,
          4324.669999999998,
          5452.169999999998,
          8.470000000000027,
          1954.6599999999999
         ],
         "yaxis": "y"
        }
       ],
       "layout": {
        "coloraxis": {
         "colorbar": {
          "title": {
           "text": "k562 1%_cov"
          }
         },
         "colorscale": [
          [
           0,
           "#0d0887"
          ],
          [
           0.1111111111111111,
           "#46039f"
          ],
          [
           0.2222222222222222,
           "#7201a8"
          ],
          [
           0.3333333333333333,
           "#9c179e"
          ],
          [
           0.4444444444444444,
           "#bd3786"
          ],
          [
           0.5555555555555556,
           "#d8576b"
          ],
          [
           0.6666666666666666,
           "#ed7953"
          ],
          [
           0.7777777777777778,
           "#fb9f3a"
          ],
          [
           0.8888888888888888,
           "#fdca26"
          ],
          [
           1,
           "#f0f921"
          ]
         ]
        },
        "legend": {
         "tracegroupgap": 0
        },
        "margin": {
         "t": 60
        },
        "template": {
         "data": {
          "bar": [
           {
            "error_x": {
             "color": "#2a3f5f"
            },
            "error_y": {
             "color": "#2a3f5f"
            },
            "marker": {
             "line": {
              "color": "#E5ECF6",
              "width": 0.5
             },
             "pattern": {
              "fillmode": "overlay",
              "size": 10,
              "solidity": 0.2
             }
            },
            "type": "bar"
           }
          ],
          "barpolar": [
           {
            "marker": {
             "line": {
              "color": "#E5ECF6",
              "width": 0.5
             },
             "pattern": {
              "fillmode": "overlay",
              "size": 10,
              "solidity": 0.2
             }
            },
            "type": "barpolar"
           }
          ],
          "carpet": [
           {
            "aaxis": {
             "endlinecolor": "#2a3f5f",
             "gridcolor": "white",
             "linecolor": "white",
             "minorgridcolor": "white",
             "startlinecolor": "#2a3f5f"
            },
            "baxis": {
             "endlinecolor": "#2a3f5f",
             "gridcolor": "white",
             "linecolor": "white",
             "minorgridcolor": "white",
             "startlinecolor": "#2a3f5f"
            },
            "type": "carpet"
           }
          ],
          "choropleth": [
           {
            "colorbar": {
             "outlinewidth": 0,
             "ticks": ""
            },
            "type": "choropleth"
           }
          ],
          "contour": [
           {
            "colorbar": {
             "outlinewidth": 0,
             "ticks": ""
            },
            "colorscale": [
             [
              0,
              "#0d0887"
             ],
             [
              0.1111111111111111,
              "#46039f"
             ],
             [
              0.2222222222222222,
              "#7201a8"
             ],
             [
              0.3333333333333333,
              "#9c179e"
             ],
             [
              0.4444444444444444,
              "#bd3786"
             ],
             [
              0.5555555555555556,
              "#d8576b"
             ],
             [
              0.6666666666666666,
              "#ed7953"
             ],
             [
              0.7777777777777778,
              "#fb9f3a"
             ],
             [
              0.8888888888888888,
              "#fdca26"
             ],
             [
              1,
              "#f0f921"
             ]
            ],
            "type": "contour"
           }
          ],
          "contourcarpet": [
           {
            "colorbar": {
             "outlinewidth": 0,
             "ticks": ""
            },
            "type": "contourcarpet"
           }
          ],
          "heatmap": [
           {
            "colorbar": {
             "outlinewidth": 0,
             "ticks": ""
            },
            "colorscale": [
             [
              0,
              "#0d0887"
             ],
             [
              0.1111111111111111,
              "#46039f"
             ],
             [
              0.2222222222222222,
              "#7201a8"
             ],
             [
              0.3333333333333333,
              "#9c179e"
             ],
             [
              0.4444444444444444,
              "#bd3786"
             ],
             [
              0.5555555555555556,
              "#d8576b"
             ],
             [
              0.6666666666666666,
              "#ed7953"
             ],
             [
              0.7777777777777778,
              "#fb9f3a"
             ],
             [
              0.8888888888888888,
              "#fdca26"
             ],
             [
              1,
              "#f0f921"
             ]
            ],
            "type": "heatmap"
           }
          ],
          "heatmapgl": [
           {
            "colorbar": {
             "outlinewidth": 0,
             "ticks": ""
            },
            "colorscale": [
             [
              0,
              "#0d0887"
             ],
             [
              0.1111111111111111,
              "#46039f"
             ],
             [
              0.2222222222222222,
              "#7201a8"
             ],
             [
              0.3333333333333333,
              "#9c179e"
             ],
             [
              0.4444444444444444,
              "#bd3786"
             ],
             [
              0.5555555555555556,
              "#d8576b"
             ],
             [
              0.6666666666666666,
              "#ed7953"
             ],
             [
              0.7777777777777778,
              "#fb9f3a"
             ],
             [
              0.8888888888888888,
              "#fdca26"
             ],
             [
              1,
              "#f0f921"
             ]
            ],
            "type": "heatmapgl"
           }
          ],
          "histogram": [
           {
            "marker": {
             "pattern": {
              "fillmode": "overlay",
              "size": 10,
              "solidity": 0.2
             }
            },
            "type": "histogram"
           }
          ],
          "histogram2d": [
           {
            "colorbar": {
             "outlinewidth": 0,
             "ticks": ""
            },
            "colorscale": [
             [
              0,
              "#0d0887"
             ],
             [
              0.1111111111111111,
              "#46039f"
             ],
             [
              0.2222222222222222,
              "#7201a8"
             ],
             [
              0.3333333333333333,
              "#9c179e"
             ],
             [
              0.4444444444444444,
              "#bd3786"
             ],
             [
              0.5555555555555556,
              "#d8576b"
             ],
             [
              0.6666666666666666,
              "#ed7953"
             ],
             [
              0.7777777777777778,
              "#fb9f3a"
             ],
             [
              0.8888888888888888,
              "#fdca26"
             ],
             [
              1,
              "#f0f921"
             ]
            ],
            "type": "histogram2d"
           }
          ],
          "histogram2dcontour": [
           {
            "colorbar": {
             "outlinewidth": 0,
             "ticks": ""
            },
            "colorscale": [
             [
              0,
              "#0d0887"
             ],
             [
              0.1111111111111111,
              "#46039f"
             ],
             [
              0.2222222222222222,
              "#7201a8"
             ],
             [
              0.3333333333333333,
              "#9c179e"
             ],
             [
              0.4444444444444444,
              "#bd3786"
             ],
             [
              0.5555555555555556,
              "#d8576b"
             ],
             [
              0.6666666666666666,
              "#ed7953"
             ],
             [
              0.7777777777777778,
              "#fb9f3a"
             ],
             [
              0.8888888888888888,
              "#fdca26"
             ],
             [
              1,
              "#f0f921"
             ]
            ],
            "type": "histogram2dcontour"
           }
          ],
          "mesh3d": [
           {
            "colorbar": {
             "outlinewidth": 0,
             "ticks": ""
            },
            "type": "mesh3d"
           }
          ],
          "parcoords": [
           {
            "line": {
             "colorbar": {
              "outlinewidth": 0,
              "ticks": ""
             }
            },
            "type": "parcoords"
           }
          ],
          "pie": [
           {
            "automargin": true,
            "type": "pie"
           }
          ],
          "scatter": [
           {
            "fillpattern": {
             "fillmode": "overlay",
             "size": 10,
             "solidity": 0.2
            },
            "type": "scatter"
           }
          ],
          "scatter3d": [
           {
            "line": {
             "colorbar": {
              "outlinewidth": 0,
              "ticks": ""
             }
            },
            "marker": {
             "colorbar": {
              "outlinewidth": 0,
              "ticks": ""
             }
            },
            "type": "scatter3d"
           }
          ],
          "scattercarpet": [
           {
            "marker": {
             "colorbar": {
              "outlinewidth": 0,
              "ticks": ""
             }
            },
            "type": "scattercarpet"
           }
          ],
          "scattergeo": [
           {
            "marker": {
             "colorbar": {
              "outlinewidth": 0,
              "ticks": ""
             }
            },
            "type": "scattergeo"
           }
          ],
          "scattergl": [
           {
            "marker": {
             "colorbar": {
              "outlinewidth": 0,
              "ticks": ""
             }
            },
            "type": "scattergl"
           }
          ],
          "scattermapbox": [
           {
            "marker": {
             "colorbar": {
              "outlinewidth": 0,
              "ticks": ""
             }
            },
            "type": "scattermapbox"
           }
          ],
          "scatterpolar": [
           {
            "marker": {
             "colorbar": {
              "outlinewidth": 0,
              "ticks": ""
             }
            },
            "type": "scatterpolar"
           }
          ],
          "scatterpolargl": [
           {
            "marker": {
             "colorbar": {
              "outlinewidth": 0,
              "ticks": ""
             }
            },
            "type": "scatterpolargl"
           }
          ],
          "scatterternary": [
           {
            "marker": {
             "colorbar": {
              "outlinewidth": 0,
              "ticks": ""
             }
            },
            "type": "scatterternary"
           }
          ],
          "surface": [
           {
            "colorbar": {
             "outlinewidth": 0,
             "ticks": ""
            },
            "colorscale": [
             [
              0,
              "#0d0887"
             ],
             [
              0.1111111111111111,
              "#46039f"
             ],
             [
              0.2222222222222222,
              "#7201a8"
             ],
             [
              0.3333333333333333,
              "#9c179e"
             ],
             [
              0.4444444444444444,
              "#bd3786"
             ],
             [
              0.5555555555555556,
              "#d8576b"
             ],
             [
              0.6666666666666666,
              "#ed7953"
             ],
             [
              0.7777777777777778,
              "#fb9f3a"
             ],
             [
              0.8888888888888888,
              "#fdca26"
             ],
             [
              1,
              "#f0f921"
             ]
            ],
            "type": "surface"
           }
          ],
          "table": [
           {
            "cells": {
             "fill": {
              "color": "#EBF0F8"
             },
             "line": {
              "color": "white"
             }
            },
            "header": {
             "fill": {
              "color": "#C8D4E3"
             },
             "line": {
              "color": "white"
             }
            },
            "type": "table"
           }
          ]
         },
         "layout": {
          "annotationdefaults": {
           "arrowcolor": "#2a3f5f",
           "arrowhead": 0,
           "arrowwidth": 1
          },
          "autotypenumbers": "strict",
          "coloraxis": {
           "colorbar": {
            "outlinewidth": 0,
            "ticks": ""
           }
          },
          "colorscale": {
           "diverging": [
            [
             0,
             "#8e0152"
            ],
            [
             0.1,
             "#c51b7d"
            ],
            [
             0.2,
             "#de77ae"
            ],
            [
             0.3,
             "#f1b6da"
            ],
            [
             0.4,
             "#fde0ef"
            ],
            [
             0.5,
             "#f7f7f7"
            ],
            [
             0.6,
             "#e6f5d0"
            ],
            [
             0.7,
             "#b8e186"
            ],
            [
             0.8,
             "#7fbc41"
            ],
            [
             0.9,
             "#4d9221"
            ],
            [
             1,
             "#276419"
            ]
           ],
           "sequential": [
            [
             0,
             "#0d0887"
            ],
            [
             0.1111111111111111,
             "#46039f"
            ],
            [
             0.2222222222222222,
             "#7201a8"
            ],
            [
             0.3333333333333333,
             "#9c179e"
            ],
            [
             0.4444444444444444,
             "#bd3786"
            ],
            [
             0.5555555555555556,
             "#d8576b"
            ],
            [
             0.6666666666666666,
             "#ed7953"
            ],
            [
             0.7777777777777778,
             "#fb9f3a"
            ],
            [
             0.8888888888888888,
             "#fdca26"
            ],
            [
             1,
             "#f0f921"
            ]
           ],
           "sequentialminus": [
            [
             0,
             "#0d0887"
            ],
            [
             0.1111111111111111,
             "#46039f"
            ],
            [
             0.2222222222222222,
             "#7201a8"
            ],
            [
             0.3333333333333333,
             "#9c179e"
            ],
            [
             0.4444444444444444,
             "#bd3786"
            ],
            [
             0.5555555555555556,
             "#d8576b"
            ],
            [
             0.6666666666666666,
             "#ed7953"
            ],
            [
             0.7777777777777778,
             "#fb9f3a"
            ],
            [
             0.8888888888888888,
             "#fdca26"
            ],
            [
             1,
             "#f0f921"
            ]
           ]
          },
          "colorway": [
           "#636efa",
           "#EF553B",
           "#00cc96",
           "#ab63fa",
           "#FFA15A",
           "#19d3f3",
           "#FF6692",
           "#B6E880",
           "#FF97FF",
           "#FECB52"
          ],
          "font": {
           "color": "#2a3f5f"
          },
          "geo": {
           "bgcolor": "white",
           "lakecolor": "white",
           "landcolor": "#E5ECF6",
           "showlakes": true,
           "showland": true,
           "subunitcolor": "white"
          },
          "hoverlabel": {
           "align": "left"
          },
          "hovermode": "closest",
          "mapbox": {
           "style": "light"
          },
          "paper_bgcolor": "white",
          "plot_bgcolor": "#E5ECF6",
          "polar": {
           "angularaxis": {
            "gridcolor": "white",
            "linecolor": "white",
            "ticks": ""
           },
           "bgcolor": "#E5ECF6",
           "radialaxis": {
            "gridcolor": "white",
            "linecolor": "white",
            "ticks": ""
           }
          },
          "scene": {
           "xaxis": {
            "backgroundcolor": "#E5ECF6",
            "gridcolor": "white",
            "gridwidth": 2,
            "linecolor": "white",
            "showbackground": true,
            "ticks": "",
            "zerolinecolor": "white"
           },
           "yaxis": {
            "backgroundcolor": "#E5ECF6",
            "gridcolor": "white",
            "gridwidth": 2,
            "linecolor": "white",
            "showbackground": true,
            "ticks": "",
            "zerolinecolor": "white"
           },
           "zaxis": {
            "backgroundcolor": "#E5ECF6",
            "gridcolor": "white",
            "gridwidth": 2,
            "linecolor": "white",
            "showbackground": true,
            "ticks": "",
            "zerolinecolor": "white"
           }
          },
          "shapedefaults": {
           "line": {
            "color": "#2a3f5f"
           }
          },
          "ternary": {
           "aaxis": {
            "gridcolor": "white",
            "linecolor": "white",
            "ticks": ""
           },
           "baxis": {
            "gridcolor": "white",
            "linecolor": "white",
            "ticks": ""
           },
           "bgcolor": "#E5ECF6",
           "caxis": {
            "gridcolor": "white",
            "linecolor": "white",
            "ticks": ""
           }
          },
          "title": {
           "x": 0.05
          },
          "xaxis": {
           "automargin": true,
           "gridcolor": "white",
           "linecolor": "white",
           "ticks": "",
           "title": {
            "standoff": 15
           },
           "zerolinecolor": "white",
           "zerolinewidth": 2
          },
          "yaxis": {
           "automargin": true,
           "gridcolor": "white",
           "linecolor": "white",
           "ticks": "",
           "title": {
            "standoff": 15
           },
           "zerolinecolor": "white",
           "zerolinewidth": 2
          }
         }
        },
        "xaxis": {
         "anchor": "y",
         "domain": [
          0,
          1
         ],
         "title": {
          "text": "k562 1%_mT_mean"
         }
        },
        "yaxis": {
         "anchor": "x",
         "domain": [
          0,
          1
         ],
         "title": {
          "text": "k562 100%_mT_mean"
         }
        }
       }
      },
      "text/html": [
       "<div>                            <div id=\"ea50e385-0ac5-4ef4-bef7-3694410ade7d\" class=\"plotly-graph-div\" style=\"height:525px; width:100%;\"></div>            <script type=\"text/javascript\">                require([\"plotly\"], function(Plotly) {                    window.PLOTLYENV=window.PLOTLYENV || {};                                    if (document.getElementById(\"ea50e385-0ac5-4ef4-bef7-3694410ade7d\")) {                    Plotly.newPlot(                        \"ea50e385-0ac5-4ef4-bef7-3694410ade7d\",                        [{\"customdata\":[[4494,\"ACBD3\",-1,321.93,3522.31,-11.01,-49.95],[3191,\"ARL14EP\",1,160.51,3587.81,12.2,23.02],[3180,\"ARL4D\",1,407.44,2899.9,-22.45,-38.52],[5290,\"BMS1\",1,85.91,2323.17,4.44,-17.69],[6010,\"BRWD3\",-1,83.24,2185.72,29.87,28.58],[11285,\"CCDC6\",-1,77.53,881.61,-13.46,-57.69],[4704,\"CHAF1B\",1,222.57,1811.77,-29.82,-72.92],[4182,\"CHMP4B\",1,113.83,1025.88,-6.54,-64.75],[8009,\"CHSY1\",-1,151.75,1342.07,-4.76,-55.35],[4238,\"DUSP5\",1,246.2,3827.98,-9.09,-66.45],[1792,\"ENDOD1\",1,638.12,4908.21,-9.64,-13.11],[2265,\"GLRX5\",1,129.61,2395.87,19.5,-49.84],[1343,\"KBTBD7\",-1,148.89,4255.71,-0.3,-42.68],[8005,\"KIF5B\",-1,75.89,1047.65,-15.84,-41.92],[6228,\"LEMD3\",1,127.89,1592.95,-14.91,-62.47],[575,\"LHFP\",-1,1700.79,8166.67,-16.56,7.34],[2867,\"MEX3B\",-1,51.09,12421.15,-9.95,-68.74],[1155,\"MT1X\",1,282.51,5380.65,-2.88,-57.41],[8258,\"NPTX1\",-1,31.25,305.43,-35.35,-68.17],[5410,\"PARP4\",-1,140.34,2713.98,37.45,20.88],[6123,\"PIM3\",1,362.92,2805.33,-24.15,15.93],[10097,\"PPP1R15B\",-1,87.09,2071.36,36.7,-33.15],[1420,\"PPP1R3C\",-1,99.6,270.5,-16.23,-51.26],[7001,\"PRKX\",-1,240.61,3688.17,1.05,-25.22],[4992,\"RAB12\",1,330.44,966.82,7.16,-35.42],[4697,\"RBX1\",1,56.59,359.91,-0.31,-58.65],[17291,\"SCD\",1,99.65,1277.78,24.62,26.58],[4688,\"SESN2\",1,78.5,913.31,-33.75,-68.68],[2966,\"SLC25A5\",1,37.08,182.58,-3.68,-10.3],[4767,\"SLC30A1\",-1,44.31,565.35,-9.91,-55.17],[4935,\"SNAPC1\",1,173.03,3858.56,1.56,-54.27],[1660,\"SOCS1\",-1,111.37,10705.74,-27.18,-55.96],[187,\"SOX8\",1,220.32,9482.52,6.4,-8.52],[79,\"SPESP1\",1,86.96,12023.48,7.22,-18.66],[10132,\"SPTSSA\",-1,57.45,565.86,-14.62,-58.76],[2375,\"SUSD6\",1,130.46,1216.17,-1.71,-42.78],[1762,\"TET1\",1,12.81,52.68,13.38,-3.42],[7018,\"TM9SF2\",1,103.77,1410.92,24.67,20.43],[10079,\"TNKS2\",1,56.73,1386.26,20.66,-55.08],[10271,\"TOB2\",-1,11.06,326.98,-17.85,-49.51],[1411,\"ZNF14\",-1,86.69,7000.1,-4.14,-31.93]],\"hovertemplate\":\"k562 1%_mT_mean=%{x}<br>k562 100%_mT_mean=%{y}<br>k562 100%_cov=%{customdata[0]}<br>gene=%{customdata[1]}<br>strand=%{customdata[2]}<br>k562 100%_mT_stdev=%{customdata[3]}<br>k562 1%_mT_stdev=%{customdata[4]}<br>k562 1%_mL_mean=%{customdata[5]}<br>k562 100%_mL_mean=%{customdata[6]}<br>k562 1%_cov=%{marker.color}<extra></extra>\",\"legendgroup\":\"\",\"marker\":{\"color\":[43,41,48,71,73,111,54,54,96,34,18,22,17,60,65,7,26,8,65,53,58,102,23,82,49,48,167,42,28,55,53,17,2,1,96,21,26,66,97,102,11],\"coloraxis\":\"coloraxis\",\"symbol\":\"circle\"},\"mode\":\"markers\",\"name\":\"\",\"orientation\":\"v\",\"showlegend\":false,\"x\":[10638.29,3692.9300000000003,3876.6000000000004,2569.75,8412.190000000002,5354.710000000006,5831.989999999998,3320.5,3070.679999999993,12306.34,4963.709999999999,3263.9699999999993,4450.03,11445.779999999999,3908.5800000000017,7709.659999999974,8020.33,3620.96,17111.83,2700.429999999993,2626.87,4710.969999999999,21550.85,4890.580000000002,3082.2599999999984,460.77999999999884,11217.220000000001,3129.0099999999984,1025.4699999999998,2214.9399999999996,3571.1500000000015,8629.63,15657.380000000001,13530.529999999999,3455.0200000000004,5651.050000000003,29619.179999999993,2224.1399999999994,4476.850000000006,4472.33,5444.6500000000015],\"xaxis\":\"x\",\"y\":[10353.89,6127.25,6528.03,2762.3300000000017,11122.869999999995,5241.820000000007,8621.089999999997,4737.1500000000015,5691.309999999998,2656.7800000000007,1165.2699999999968,4135.33,3221.3900000000003,11245.68,5259.360000000001,9980.320000000007,1948.08,268.96000000000004,17161.85,2828.449999999997,5245.41,2088.84,22511.79,12601.179999999993,3507.8499999999985,1213.3199999999997,8113.279999999999,3132.2700000000004,1525.33,2676.05,3290.1900000000023,3444.54,15989.98,17935.589999999997,4149.470000000001,4971.989999999998,29562.459999999992,4324.669999999998,5452.169999999998,8.470000000000027,1954.6599999999999],\"yaxis\":\"y\",\"type\":\"scatter\"}],                        {\"template\":{\"data\":{\"histogram2dcontour\":[{\"type\":\"histogram2dcontour\",\"colorbar\":{\"outlinewidth\":0,\"ticks\":\"\"},\"colorscale\":[[0.0,\"#0d0887\"],[0.1111111111111111,\"#46039f\"],[0.2222222222222222,\"#7201a8\"],[0.3333333333333333,\"#9c179e\"],[0.4444444444444444,\"#bd3786\"],[0.5555555555555556,\"#d8576b\"],[0.6666666666666666,\"#ed7953\"],[0.7777777777777778,\"#fb9f3a\"],[0.8888888888888888,\"#fdca26\"],[1.0,\"#f0f921\"]]}],\"choropleth\":[{\"type\":\"choropleth\",\"colorbar\":{\"outlinewidth\":0,\"ticks\":\"\"}}],\"histogram2d\":[{\"type\":\"histogram2d\",\"colorbar\":{\"outlinewidth\":0,\"ticks\":\"\"},\"colorscale\":[[0.0,\"#0d0887\"],[0.1111111111111111,\"#46039f\"],[0.2222222222222222,\"#7201a8\"],[0.3333333333333333,\"#9c179e\"],[0.4444444444444444,\"#bd3786\"],[0.5555555555555556,\"#d8576b\"],[0.6666666666666666,\"#ed7953\"],[0.7777777777777778,\"#fb9f3a\"],[0.8888888888888888,\"#fdca26\"],[1.0,\"#f0f921\"]]}],\"heatmap\":[{\"type\":\"heatmap\",\"colorbar\":{\"outlinewidth\":0,\"ticks\":\"\"},\"colorscale\":[[0.0,\"#0d0887\"],[0.1111111111111111,\"#46039f\"],[0.2222222222222222,\"#7201a8\"],[0.3333333333333333,\"#9c179e\"],[0.4444444444444444,\"#bd3786\"],[0.5555555555555556,\"#d8576b\"],[0.6666666666666666,\"#ed7953\"],[0.7777777777777778,\"#fb9f3a\"],[0.8888888888888888,\"#fdca26\"],[1.0,\"#f0f921\"]]}],\"heatmapgl\":[{\"type\":\"heatmapgl\",\"colorbar\":{\"outlinewidth\":0,\"ticks\":\"\"},\"colorscale\":[[0.0,\"#0d0887\"],[0.1111111111111111,\"#46039f\"],[0.2222222222222222,\"#7201a8\"],[0.3333333333333333,\"#9c179e\"],[0.4444444444444444,\"#bd3786\"],[0.5555555555555556,\"#d8576b\"],[0.6666666666666666,\"#ed7953\"],[0.7777777777777778,\"#fb9f3a\"],[0.8888888888888888,\"#fdca26\"],[1.0,\"#f0f921\"]]}],\"contourcarpet\":[{\"type\":\"contourcarpet\",\"colorbar\":{\"outlinewidth\":0,\"ticks\":\"\"}}],\"contour\":[{\"type\":\"contour\",\"colorbar\":{\"outlinewidth\":0,\"ticks\":\"\"},\"colorscale\":[[0.0,\"#0d0887\"],[0.1111111111111111,\"#46039f\"],[0.2222222222222222,\"#7201a8\"],[0.3333333333333333,\"#9c179e\"],[0.4444444444444444,\"#bd3786\"],[0.5555555555555556,\"#d8576b\"],[0.6666666666666666,\"#ed7953\"],[0.7777777777777778,\"#fb9f3a\"],[0.8888888888888888,\"#fdca26\"],[1.0,\"#f0f921\"]]}],\"surface\":[{\"type\":\"surface\",\"colorbar\":{\"outlinewidth\":0,\"ticks\":\"\"},\"colorscale\":[[0.0,\"#0d0887\"],[0.1111111111111111,\"#46039f\"],[0.2222222222222222,\"#7201a8\"],[0.3333333333333333,\"#9c179e\"],[0.4444444444444444,\"#bd3786\"],[0.5555555555555556,\"#d8576b\"],[0.6666666666666666,\"#ed7953\"],[0.7777777777777778,\"#fb9f3a\"],[0.8888888888888888,\"#fdca26\"],[1.0,\"#f0f921\"]]}],\"mesh3d\":[{\"type\":\"mesh3d\",\"colorbar\":{\"outlinewidth\":0,\"ticks\":\"\"}}],\"scatter\":[{\"fillpattern\":{\"fillmode\":\"overlay\",\"size\":10,\"solidity\":0.2},\"type\":\"scatter\"}],\"parcoords\":[{\"type\":\"parcoords\",\"line\":{\"colorbar\":{\"outlinewidth\":0,\"ticks\":\"\"}}}],\"scatterpolargl\":[{\"type\":\"scatterpolargl\",\"marker\":{\"colorbar\":{\"outlinewidth\":0,\"ticks\":\"\"}}}],\"bar\":[{\"error_x\":{\"color\":\"#2a3f5f\"},\"error_y\":{\"color\":\"#2a3f5f\"},\"marker\":{\"line\":{\"color\":\"#E5ECF6\",\"width\":0.5},\"pattern\":{\"fillmode\":\"overlay\",\"size\":10,\"solidity\":0.2}},\"type\":\"bar\"}],\"scattergeo\":[{\"type\":\"scattergeo\",\"marker\":{\"colorbar\":{\"outlinewidth\":0,\"ticks\":\"\"}}}],\"scatterpolar\":[{\"type\":\"scatterpolar\",\"marker\":{\"colorbar\":{\"outlinewidth\":0,\"ticks\":\"\"}}}],\"histogram\":[{\"marker\":{\"pattern\":{\"fillmode\":\"overlay\",\"size\":10,\"solidity\":0.2}},\"type\":\"histogram\"}],\"scattergl\":[{\"type\":\"scattergl\",\"marker\":{\"colorbar\":{\"outlinewidth\":0,\"ticks\":\"\"}}}],\"scatter3d\":[{\"type\":\"scatter3d\",\"line\":{\"colorbar\":{\"outlinewidth\":0,\"ticks\":\"\"}},\"marker\":{\"colorbar\":{\"outlinewidth\":0,\"ticks\":\"\"}}}],\"scattermapbox\":[{\"type\":\"scattermapbox\",\"marker\":{\"colorbar\":{\"outlinewidth\":0,\"ticks\":\"\"}}}],\"scatterternary\":[{\"type\":\"scatterternary\",\"marker\":{\"colorbar\":{\"outlinewidth\":0,\"ticks\":\"\"}}}],\"scattercarpet\":[{\"type\":\"scattercarpet\",\"marker\":{\"colorbar\":{\"outlinewidth\":0,\"ticks\":\"\"}}}],\"carpet\":[{\"aaxis\":{\"endlinecolor\":\"#2a3f5f\",\"gridcolor\":\"white\",\"linecolor\":\"white\",\"minorgridcolor\":\"white\",\"startlinecolor\":\"#2a3f5f\"},\"baxis\":{\"endlinecolor\":\"#2a3f5f\",\"gridcolor\":\"white\",\"linecolor\":\"white\",\"minorgridcolor\":\"white\",\"startlinecolor\":\"#2a3f5f\"},\"type\":\"carpet\"}],\"table\":[{\"cells\":{\"fill\":{\"color\":\"#EBF0F8\"},\"line\":{\"color\":\"white\"}},\"header\":{\"fill\":{\"color\":\"#C8D4E3\"},\"line\":{\"color\":\"white\"}},\"type\":\"table\"}],\"barpolar\":[{\"marker\":{\"line\":{\"color\":\"#E5ECF6\",\"width\":0.5},\"pattern\":{\"fillmode\":\"overlay\",\"size\":10,\"solidity\":0.2}},\"type\":\"barpolar\"}],\"pie\":[{\"automargin\":true,\"type\":\"pie\"}]},\"layout\":{\"autotypenumbers\":\"strict\",\"colorway\":[\"#636efa\",\"#EF553B\",\"#00cc96\",\"#ab63fa\",\"#FFA15A\",\"#19d3f3\",\"#FF6692\",\"#B6E880\",\"#FF97FF\",\"#FECB52\"],\"font\":{\"color\":\"#2a3f5f\"},\"hovermode\":\"closest\",\"hoverlabel\":{\"align\":\"left\"},\"paper_bgcolor\":\"white\",\"plot_bgcolor\":\"#E5ECF6\",\"polar\":{\"bgcolor\":\"#E5ECF6\",\"angularaxis\":{\"gridcolor\":\"white\",\"linecolor\":\"white\",\"ticks\":\"\"},\"radialaxis\":{\"gridcolor\":\"white\",\"linecolor\":\"white\",\"ticks\":\"\"}},\"ternary\":{\"bgcolor\":\"#E5ECF6\",\"aaxis\":{\"gridcolor\":\"white\",\"linecolor\":\"white\",\"ticks\":\"\"},\"baxis\":{\"gridcolor\":\"white\",\"linecolor\":\"white\",\"ticks\":\"\"},\"caxis\":{\"gridcolor\":\"white\",\"linecolor\":\"white\",\"ticks\":\"\"}},\"coloraxis\":{\"colorbar\":{\"outlinewidth\":0,\"ticks\":\"\"}},\"colorscale\":{\"sequential\":[[0.0,\"#0d0887\"],[0.1111111111111111,\"#46039f\"],[0.2222222222222222,\"#7201a8\"],[0.3333333333333333,\"#9c179e\"],[0.4444444444444444,\"#bd3786\"],[0.5555555555555556,\"#d8576b\"],[0.6666666666666666,\"#ed7953\"],[0.7777777777777778,\"#fb9f3a\"],[0.8888888888888888,\"#fdca26\"],[1.0,\"#f0f921\"]],\"sequentialminus\":[[0.0,\"#0d0887\"],[0.1111111111111111,\"#46039f\"],[0.2222222222222222,\"#7201a8\"],[0.3333333333333333,\"#9c179e\"],[0.4444444444444444,\"#bd3786\"],[0.5555555555555556,\"#d8576b\"],[0.6666666666666666,\"#ed7953\"],[0.7777777777777778,\"#fb9f3a\"],[0.8888888888888888,\"#fdca26\"],[1.0,\"#f0f921\"]],\"diverging\":[[0,\"#8e0152\"],[0.1,\"#c51b7d\"],[0.2,\"#de77ae\"],[0.3,\"#f1b6da\"],[0.4,\"#fde0ef\"],[0.5,\"#f7f7f7\"],[0.6,\"#e6f5d0\"],[0.7,\"#b8e186\"],[0.8,\"#7fbc41\"],[0.9,\"#4d9221\"],[1,\"#276419\"]]},\"xaxis\":{\"gridcolor\":\"white\",\"linecolor\":\"white\",\"ticks\":\"\",\"title\":{\"standoff\":15},\"zerolinecolor\":\"white\",\"automargin\":true,\"zerolinewidth\":2},\"yaxis\":{\"gridcolor\":\"white\",\"linecolor\":\"white\",\"ticks\":\"\",\"title\":{\"standoff\":15},\"zerolinecolor\":\"white\",\"automargin\":true,\"zerolinewidth\":2},\"scene\":{\"xaxis\":{\"backgroundcolor\":\"#E5ECF6\",\"gridcolor\":\"white\",\"linecolor\":\"white\",\"showbackground\":true,\"ticks\":\"\",\"zerolinecolor\":\"white\",\"gridwidth\":2},\"yaxis\":{\"backgroundcolor\":\"#E5ECF6\",\"gridcolor\":\"white\",\"linecolor\":\"white\",\"showbackground\":true,\"ticks\":\"\",\"zerolinecolor\":\"white\",\"gridwidth\":2},\"zaxis\":{\"backgroundcolor\":\"#E5ECF6\",\"gridcolor\":\"white\",\"linecolor\":\"white\",\"showbackground\":true,\"ticks\":\"\",\"zerolinecolor\":\"white\",\"gridwidth\":2}},\"shapedefaults\":{\"line\":{\"color\":\"#2a3f5f\"}},\"annotationdefaults\":{\"arrowcolor\":\"#2a3f5f\",\"arrowhead\":0,\"arrowwidth\":1},\"geo\":{\"bgcolor\":\"white\",\"landcolor\":\"#E5ECF6\",\"subunitcolor\":\"white\",\"showland\":true,\"showlakes\":true,\"lakecolor\":\"white\"},\"title\":{\"x\":0.05},\"mapbox\":{\"style\":\"light\"}}},\"xaxis\":{\"anchor\":\"y\",\"domain\":[0.0,1.0],\"title\":{\"text\":\"k562 1%_mT_mean\"}},\"yaxis\":{\"anchor\":\"x\",\"domain\":[0.0,1.0],\"title\":{\"text\":\"k562 100%_mT_mean\"}},\"coloraxis\":{\"colorbar\":{\"title\":{\"text\":\"k562 1%_cov\"}},\"colorscale\":[[0.0,\"#0d0887\"],[0.1111111111111111,\"#46039f\"],[0.2222222222222222,\"#7201a8\"],[0.3333333333333333,\"#9c179e\"],[0.4444444444444444,\"#bd3786\"],[0.5555555555555556,\"#d8576b\"],[0.6666666666666666,\"#ed7953\"],[0.7777777777777778,\"#fb9f3a\"],[0.8888888888888888,\"#fdca26\"],[1.0,\"#f0f921\"]]},\"legend\":{\"tracegroupgap\":0},\"margin\":{\"t\":60}},                        {\"responsive\": true}                    ).then(function(){\n",
       "                            \n",
       "var gd = document.getElementById('ea50e385-0ac5-4ef4-bef7-3694410ade7d');\n",
       "var x = new MutationObserver(function (mutations, observer) {{\n",
       "        var display = window.getComputedStyle(gd).display;\n",
       "        if (!display || display === 'none') {{\n",
       "            console.log([gd, 'removed!']);\n",
       "            Plotly.purge(gd);\n",
       "            observer.disconnect();\n",
       "        }}\n",
       "}});\n",
       "\n",
       "// Listen for the removal of the full notebook cells\n",
       "var notebookContainer = gd.closest('#notebook-container');\n",
       "if (notebookContainer) {{\n",
       "    x.observe(notebookContainer, {childList: true});\n",
       "}}\n",
       "\n",
       "// Listen for the clearing of the current output cell\n",
       "var outputEl = gd.closest('.output');\n",
       "if (outputEl) {{\n",
       "    x.observe(outputEl, {childList: true});\n",
       "}}\n",
       "\n",
       "                        })                };                });            </script>        </div>"
      ]
     },
     "metadata": {},
     "output_type": "display_data"
    }
   ],
   "source": [
    "# Exploratory with px\n",
    "fig = px.scatter(ALL_full_df, x= 'k562 1%_mT_stdev', y='k562 100%_mT_stdev', \n",
    "                 color='k562 1%_cov',\n",
    "                hover_data=['k562 100%_cov', 'gene', 'strand'])\n",
    "fig.show()\n",
    "fig = px.scatter(ALL_full_df, x= 'k562 1%_mT_mean', y='k562 100%_mT_mean', \n",
    "                 color='k562 1%_cov',\n",
    "                hover_data=['k562 100%_cov', 'gene', 'strand','k562 100%_mT_stdev','k562 1%_mT_stdev', \n",
    "                            'k562 1%_mL_mean', 'k562 100%_mL_mean' ])\n",
    "fig.show()"
   ]
  },
  {
   "cell_type": "code",
   "execution_count": null,
   "metadata": {},
   "outputs": [],
   "source": [
    "\n",
    "rcParams['figure.figsize'] = 6, 5\n",
    "ALL_full_df.plot.scatter('k562 1%_mT_mean', 'k562 100%_mT_mean', edgecolor='black', \n",
    "                       s=30, fontsize=10)\n",
    "#calculate equation for trendline\n",
    "z = np.polyfit(ALL_full_df['k562 1%_mT_mean'], ALL_full_df['k562 100%_mT_mean'], 1)\n",
    "p = np.poly1d(z)\n",
    "\n",
    "#add trendline to plot\n",
    "plt.plot(ALL_full_df['k562 1%_mT_mean'], p(ALL_full_df['k562 1%_mT_mean']),\n",
    "        color='black', linewidth=0.5)\n",
    "plt.title('Comparing mT between 1% & 100%', weight='bold')\n",
    "\n",
    "\n",
    "ALL_full_df.plot.scatter('k562 1%_mT_stdev', 'k562 100%_mT_stdev', \n",
    "                         c='k562 1%_cov', colormap='viridis', \n",
    "                       s=30, fontsize=10)\n",
    "plt.title('Comparing mT uncertainty between 1% & 100%', weight='bold')\n",
    "ALL_full_df.plot.scatter('k562 1%_mL_mean', 'k562 100%_mL_mean', \n",
    "                         c='k562 1%_cov', colormap='viridis', \n",
    "                       s=30, fontsize=10)\n",
    "plt.title('Comparing mL between 1% & 100%', weight='bold')\n",
    "ALL_full_df.plot.scatter('k562 1%_mL_stdev', 'k562 100%_mL_stdev', \n",
    "                         c='k562 1%_cov', colormap='viridis', \n",
    "                       s=30, fontsize=10)\n",
    "plt.title('Comparing mL uncertainty between 1% & 100%', weight='bold')\n",
    "ALL_full_df.plot.scatter('k562 1%_cov', 'k562 100%_cov', \n",
    "                       s=30, fontsize=10)\n",
    "plt.title('Comparing coverage between 1% & 100%', weight='bold')"
   ]
  },
  {
   "cell_type": "code",
   "execution_count": null,
   "metadata": {},
   "outputs": [],
   "source": [
    "\n",
    "rcParams['figure.figsize'] = 6, 5\n",
    "ALL_full_df.plot.scatter('k562 1%_mT_mean', 'k562 100%_mT_mean', edgecolor='black', \n",
    "                       s=30, fontsize=10)\n",
    "#calculate equation for trendline\n",
    "z = np.polyfit(ALL_full_df['k562 1%_mT_mean'], ALL_full_df['k562 100%_mT_mean'], 1)\n",
    "p = np.poly1d(z)\n",
    "\n",
    "#add trendline to plot\n",
    "plt.plot(ALL_full_df['k562 1%_mT_mean'], p(ALL_full_df['k562 1%_mT_mean']),\n",
    "        color='black', linewidth=0.5)\n",
    "plt.title('Comparing mT between 1% & 100%', weight='bold')\n",
    "\n",
    "\n",
    "ALL_full_df.plot.scatter('k562 1%_mT_stdev', 'k562 100%_mT_stdev', \n",
    "                         c='k562 1%_cov', colormap='viridis', \n",
    "                       s=30, fontsize=10)\n",
    "plt.title('Comparing mT uncertainty between 1% & 100%', weight='bold')\n",
    "ALL_full_df.plot.scatter('k562 1%_mL_mean', 'k562 100%_mL_mean', \n",
    "                         c='k562 1%_cov', colormap='viridis', \n",
    "                       s=30, fontsize=10)\n",
    "plt.title('Comparing mL between 1% & 100%', weight='bold')\n",
    "ALL_full_df.plot.scatter('k562 1%_mL_stdev', 'k562 100%_mL_stdev', \n",
    "                         c='k562 1%_cov', colormap='viridis', \n",
    "                       s=30, fontsize=10)\n",
    "plt.title('Comparing mL uncertainty between 1% & 100%', weight='bold')\n",
    "ALL_full_df.plot.scatter('k562 1%_cov', 'k562 100%_cov', \n",
    "                       s=30, fontsize=10)\n",
    "plt.title('Comparing coverage between 1% & 100%', weight='bold')"
   ]
  },
  {
   "cell_type": "markdown",
   "metadata": {},
   "source": [
    "## 6a. Boxplot of coverage & mT to ensure actual decreaase"
   ]
  },
  {
   "cell_type": "code",
   "execution_count": 7,
   "metadata": {},
   "outputs": [
    {
     "data": {
      "image/png": "[encoded data removed]",
      "text/plain": [
       "<Figure size 750x350 with 1 Axes>"
      ]
     },
     "metadata": {},
     "output_type": "display_data"
    }
   ],
   "source": [
    "# removed 'ACTC1' since that had high stdev in all\n",
    "datadict = {'1%': ALL_full_df['k562 1%_cov'], \n",
    "            '5%': ALL_full_df['k562 5%_cov'],\n",
    "            '20%': ALL_full_df['k562 20%_cov'], \n",
    "            '40%': ALL_full_df['k562 40%_cov'], \n",
    "            '60%': ALL_full_df['k562 60%_cov'], \n",
    "            '100%': ALL_full_df['k562 100%_cov']}\n",
    "title = \"Coverage between SRR8478992 subsamples\"\n",
    "y_label = 'Coverage'\n",
    "pf.box_plotter_all(datadict, title=title, y_label=y_label, showmeans=False)"
   ]
  },
  {
   "cell_type": "markdown",
   "metadata": {},
   "source": [
    "## 6b. See how mT & mL uncertainty and means change with coverage"
   ]
  },
  {
   "cell_type": "code",
   "execution_count": 8,
   "metadata": {},
   "outputs": [
    {
     "data": {
      "image/png": "[encoded data removed]",
      "text/plain": [
       "<Figure size 750x350 with 1 Axes>"
      ]
     },
     "metadata": {},
     "output_type": "display_data"
    }
   ],
   "source": [
    "datadict = {'1%': ALL_full_df['k562 1%_mT_mean'], \n",
    "            '5%': ALL_full_df['k562 5%_mT_mean'],\n",
    "            '20%': ALL_full_df['k562 20%_mT_mean'], \n",
    "            '40%': ALL_full_df['k562 40%_mT_mean'], \n",
    "            '60%': ALL_full_df['k562 60%_mT_mean'], \n",
    "            '100%': ALL_full_df['k562 100%_mT_mean']}\n",
    "title = \"mT values between SRR8478992 subsamples\"\n",
    "y_label = 'mT (#nt after cleavage site)'\n",
    "pf.box_plotter_all(datadict, title=title, y_label=y_label, showmeans=True)"
   ]
  },
  {
   "cell_type": "code",
   "execution_count": null,
   "metadata": {},
   "outputs": [],
   "source": []
  },
  {
   "cell_type": "code",
   "execution_count": 10,
   "metadata": {},
   "outputs": [
    {
     "data": {
      "image/png": "[encoded data removed]",
      "text/plain": [
       "<Figure size 750x350 with 1 Axes>"
      ]
     },
     "metadata": {},
     "output_type": "display_data"
    }
   ],
   "source": [
    "datadict = {'1%': ALL_full_df['k562 1%_mT_stdev'], \n",
    "            '5%': ALL_full_df['k562 5%_mT_stdev'],\n",
    "            '20%': ALL_full_df['k562 20%_mT_stdev'], \n",
    "            '40%': ALL_full_df['k562 40%_mT_stdev'], \n",
    "            '60%': ALL_full_df['k562 60%_mT_stdev'], \n",
    "            '100%': ALL_full_df['k562 100%_mT_stdev']}\n",
    "title = \"mT uncertainty between SRR8478992 subsamples\"\n",
    "y_label = 'mT_stdev'\n",
    "pf.box_plotter_all(datadict, title=title, y_label=y_label, showmeans=True)"
   ]
  },
  {
   "cell_type": "code",
   "execution_count": 11,
   "metadata": {},
   "outputs": [
    {
     "data": {
      "image/png": "[encoded data removed]",
      "text/plain": [
       "<Figure size 750x350 with 1 Axes>"
      ]
     },
     "metadata": {},
     "output_type": "display_data"
    }
   ],
   "source": [
    "datadict = {'1%': ALL_full_df['k562 1%_mL_stdev'], \n",
    "            '5%': ALL_full_df['k562 5%_mL_stdev'],\n",
    "            '20%': ALL_full_df['k562 20%_mL_stdev'], \n",
    "            '40%': ALL_full_df['k562 40%_mL_stdev'], \n",
    "            '60%': ALL_full_df['k562 60%_mL_stdev'], \n",
    "            '100%': ALL_full_df['k562 100%_mL_stdev']}\n",
    "title = \"mL uncertainty between SRR8478992 subsamples\"\n",
    "y_label = 'mL_stdev'\n",
    "pf.box_plotter_all(datadict, title=title, y_label=y_label, showmeans=True)"
   ]
  },
  {
   "cell_type": "code",
   "execution_count": 12,
   "metadata": {},
   "outputs": [
    {
     "data": {
      "image/png": "[encoded data removed]",
      "text/plain": [
       "<Figure size 750x350 with 1 Axes>"
      ]
     },
     "metadata": {},
     "output_type": "display_data"
    }
   ],
   "source": [
    "datadict = {'1%': ALL_full_df['k562 1%_mL_mean'], \n",
    "            '5%': ALL_full_df['k562 5%_mL_mean'],\n",
    "            '20%': ALL_full_df['k562 20%_mL_mean'], \n",
    "            '40%': ALL_full_df['k562 40%_mL_mean'], \n",
    "            '60%': ALL_full_df['k562 60%_mL_mean'], \n",
    "            '100%': ALL_full_df['k562 100%_mL_mean']}\n",
    "title = \"mL values between SRR8478992 subsamples\"\n",
    "y_label = 'mL_mean'\n",
    "pf.box_plotter_all(datadict, title=title, y_label=y_label, showmeans=True)"
   ]
  },
  {
   "cell_type": "markdown",
   "metadata": {},
   "source": [
    "It seems there is no difference despite that seeming completely unrealistic. I'm wondering if the cache sharing might be messing up the calculations. Therefore, I will retry with 3.9.5 to see if that might explain the problem."
   ]
  },
  {
   "cell_type": "code",
   "execution_count": null,
   "metadata": {},
   "outputs": [],
   "source": []
  },
  {
   "cell_type": "markdown",
   "metadata": {},
   "source": [
    "## 6. See how weights of background compare"
   ]
  },
  {
   "cell_type": "code",
   "execution_count": null,
   "metadata": {},
   "outputs": [],
   "source": []
  }
 ],
 "metadata": {
  "kernelspec": {
   "display_name": "secondenv",
   "language": "python",
   "name": "secondenv"
  },
  "language_info": {
   "codemirror_mode": {
    "name": "ipython",
    "version": 3
   },
   "file_extension": ".py",
   "mimetype": "text/x-python",
   "name": "python",
   "nbconvert_exporter": "python",
   "pygments_lexer": "ipython3",
   "version": "3.9.12"
  }
 },
 "nbformat": 4,
 "nbformat_minor": 2
}
