{
 "cells": [
  {
   "cell_type": "markdown",
   "metadata": {},
   "source": [
    "### Assess which genes of Ru's are found in the current 363 list and curated list.\n",
    "1. Ru's list are those genes that are hermits in Mary Allen's list, have 100% transcription, and have a log(coefficient of variation) < 0.4.\n",
    "2. My curated list"
   ]
  },
  {
   "cell_type": "code",
   "execution_count": 9,
   "metadata": {},
   "outputs": [
    {
     "name": "stdout",
     "output_type": "stream",
     "text": [
      "53\n",
      "ZSWIM6 none\n",
      "ZNF777 none\n",
      "ZBTB34 none\n",
      "TOB2 none\n",
      "TNKS2 simbest\n",
      "TMEM185B none\n",
      "TMED7 none\n",
      "TM9SF2 simbest\n",
      "SPTSSA two termination places\n",
      "SNAPC1 two term places bad\n",
      "SMC3 two term places bad\n",
      "SLC30A1 none\n",
      "SLC25A5 none\n",
      "SIAH2 none\n",
      "SESN2 two term places bad\n",
      "SERTAD2 none\n",
      "SDE2 two term places bad\n",
      "SCD none\n",
      "RPS12 none\n",
      "RBX1 simbest\n",
      "RAB12 two term places bad\n",
      "PPP1R3B none\n",
      "PPP1R15B two termination places\n",
      "PPIL4 none\n",
      "PLEKHF2 none\n",
      "PHIP none\n",
      "PELO none\n",
      "PARP4 two termination places\n",
      "PANK3 none\n",
      "NUS1 none\n",
      "NUDT3 none\n",
      "NUCKS1 two termination places\n",
      "LRRC58 none\n",
      "LEMD3 none\n",
      "KRCC1 none\n",
      "KLHL15 two termination places\n",
      "KIF5B two termination places\n",
      "IRS1 none\n",
      "HS6ST1 none\n",
      "GLO1 none\n",
      "FBXO30 none\n",
      "DYNLL2 none\n",
      "CHSY1 simbest\n",
      "CHMP4B none\n",
      "CHAF1B none\n",
      "CDC5L none\n",
      "CD2AP none\n",
      "CCDC6 none\n",
      "BMS1 two term places bad\n",
      "B4GALT5 simnotbad\n",
      "ARL14EP none\n",
      "ANP32B none\n",
      "ACBD3 simbest\n",
      "35\n",
      "2\n"
     ]
    }
   ],
   "source": [
    "#List provided by Ru\n",
    "ru_list = ['ZSWIM6', 'ZNF777', 'ZBTB34', 'TOB2', 'TNKS2', \n",
    " 'TMEM185B', 'TMED7', 'TM9SF2', 'SPTSSA', 'SNAPC1', \n",
    " 'SMC3', 'SLC30A1', 'SLC25A5', 'SIAH2', 'SESN2', \n",
    " 'SERTAD2', 'SDE2', 'SCD', 'RPS12', 'RBX1', 'RAB12', \n",
    " 'PPP1R3B', 'PPP1R15B', 'PPIL4', 'PLEKHF2', 'PHIP', \n",
    " 'PELO', 'PARP4', 'PANK3', 'NUS1', 'NUDT3', 'NUCKS1', \n",
    " 'LRRC58', 'LEMD3', 'KRCC1', 'KLHL15', 'KIF5B', 'IRS1', \n",
    " 'HS6ST1', 'GLO1', 'FBXO30', 'DYNLL2', 'CHSY1', 'CHMP4B',\n",
    " 'CHAF1B', 'CDC5L', 'CD2AP', 'CCDC6', 'BMS1', 'B4GALT5', \n",
    " 'ARL14EP', 'ANP32B', 'ACBD3']\n",
    "\n",
    "print(len(ru_list))\n",
    "\n",
    "# My lists\n",
    "# generally similar\n",
    "# best\n",
    "simbest = ['ACBD3', 'CHSY1','FBXL14','FH','KBTBD7','KIF18A','PRKX',\n",
    "           'RBX1','TM9SF2','TNKS2','ZNF14']\n",
    "#Not the best\n",
    "simnot = ['B4GALT5', 'FDX1','FUNDC1','TAF3','TET1']\n",
    "# Pretty bad\n",
    "simbad = ['B3GLCT', 'UBL3']\n",
    "\n",
    "# 2 term places?\n",
    "twobest = ['NUCKS1','PIM3','PPP1R15B']\n",
    "twomost = ['KLHL15','MIS18A','NANP']\n",
    "twoprob = ['GLRX5', 'KIF5B','PARP4','SPTSSA']\n",
    "twobad = ['BMS1','DUSP5','PTRF', 'RAB12','RGCC','SDE2',\n",
    "          'SESN2','SMC3','SNAPC1']\n",
    "\n",
    "no_curated = []\n",
    "\n",
    "for gene in ru_list:\n",
    "    if gene in simbest:\n",
    "        print(gene, \"simbest\")\n",
    "    elif gene in simnot or gene in simbad:\n",
    "        print(gene, \"simnotbad\")\n",
    "    elif gene in twobest or gene in twomost or gene in twoprob:\n",
    "        print(gene, \"two termination places\")\n",
    "    elif gene in twobad:\n",
    "        print(gene, \"two term places bad\")\n",
    "    else:\n",
    "        print(gene, \"none\")\n",
    "        no_curated.append(gene)\n",
    "\n",
    "# print the list of genes not found in my curated list\n",
    "#print(no_curated)\n",
    "# print the length of this list\n",
    "cur_length = len(simbest)+len(simbad)+len(simnot)+len(twobest)+len(twomost)+len(twoprob)+len(twobad)\n",
    "print(len(no_curated))\n",
    "print(\"# of Genes in manually curated list not found in Ru's list\")\n",
    "print(cur_length-len(no_curated))"
   ]
  },
  {
   "cell_type": "markdown",
   "metadata": {},
   "source": [
    "#### Get the genes from the hermit expressed list"
   ]
  },
  {
   "cell_type": "code",
   "execution_count": 7,
   "metadata": {},
   "outputs": [
    {
     "name": "stdout",
     "output_type": "stream",
     "text": [
      "368\n"
     ]
    }
   ],
   "source": [
    "# See of genes \n",
    "hermit_file_name = \"/scratch/Users/hoto7260/batch_out_files/LIETfirstSRRtests/input_files/hermits_consistantly_expressed.bed\"\n",
    "# open tab file\n",
    "hermit_file = open(hermit_file_name, 'rt')\n",
    "\n",
    "hermit_gene_list = []\n",
    "for line in hermit_file:\n",
    "    line_list = line.rstrip().split('\\t')\n",
    "    hermit_gene_list.append(line_list[3])\n",
    "    \n",
    "print(len(hermit_gene_list))\n",
    "# make no_hermit_list \n",
    "yes_hermit_list = []\n",
    "no_hermit_list = []\n",
    "for gene in ru_list:\n",
    "    if gene in hermit_gene_list:\n",
    "        yes_hermit_list.append(gene)\n",
    "    else:\n",
    "        no_hermit_list.append(gene)\n",
    "        \n",
    "        "
   ]
  },
  {
   "cell_type": "markdown",
   "metadata": {},
   "source": [
    "#### Print & Compare gene lists"
   ]
  },
  {
   "cell_type": "code",
   "execution_count": 6,
   "metadata": {},
   "outputs": [
    {
     "name": "stdout",
     "output_type": "stream",
     "text": [
      "Ru's genes NOT in our current list\n",
      "0\n",
      "[]\n",
      "Ru's genes in our current list\n",
      "53\n",
      "['ZSWIM6', 'ZNF777', 'ZBTB34', 'TOB2', 'TNKS2', 'TMEM185B', 'TMED7', 'TM9SF2', 'SPTSSA', 'SNAPC1', 'SMC3', 'SLC30A1', 'SLC25A5', 'SIAH2', 'SESN2', 'SERTAD2', 'SDE2', 'SCD', 'RPS12', 'RBX1', 'RAB12', 'PPP1R3B', 'PPP1R15B', 'PPIL4', 'PLEKHF2', 'PHIP', 'PELO', 'PARP4', 'PANK3', 'NUS1', 'NUDT3', 'NUCKS1', 'LRRC58', 'LEMD3', 'KRCC1', 'KLHL15', 'KIF5B', 'IRS1', 'HS6ST1', 'GLO1', 'FBXO30', 'DYNLL2', 'CHSY1', 'CHMP4B', 'CHAF1B', 'CDC5L', 'CD2AP', 'CCDC6', 'BMS1', 'B4GALT5', 'ARL14EP', 'ANP32B', 'ACBD3']\n",
      "Ru's & Hermit's genes NOT in the curated list\n",
      "35\n",
      "['ZSWIM6', 'ZNF777', 'ZBTB34', 'TOB2', 'TMEM185B', 'TMED7', 'SLC30A1', 'SLC25A5', 'SIAH2', 'SERTAD2', 'SCD', 'RPS12', 'PPP1R3B', 'PPIL4', 'PLEKHF2', 'PHIP', 'PELO', 'PANK3', 'NUS1', 'NUDT3', 'LRRC58', 'LEMD3', 'KRCC1', 'IRS1', 'HS6ST1', 'GLO1', 'FBXO30', 'DYNLL2', 'CHMP4B', 'CHAF1B', 'CDC5L', 'CD2AP', 'CCDC6', 'ARL14EP', 'ANP32B']\n"
     ]
    }
   ],
   "source": [
    "# list of Ru's genes NOT found in hermit list\n",
    "print(\"Ru's genes NOT in our current list\")\n",
    "print(len(no_hermit_list))\n",
    "print(no_hermit_list)\n",
    "print(\"Ru's genes in our current list\")\n",
    "# list of Ru's genes found in hermit list\n",
    "print(len(yes_hermit_list))\n",
    "print(yes_hermit_list)\n",
    "print(\"Ru's & Hermit's genes NOT in the curated list\")\n",
    "# list of genes found in hermit & Ru's list but not in curated list\n",
    "no_cur_hermits = []\n",
    "for gene in yes_hermit_list:\n",
    "    if gene in no_curated:\n",
    "        no_cur_hermits.append(gene)\n",
    "print(len(no_cur_hermits))\n",
    "print(no_cur_hermits)\n",
    "\n"
   ]
  },
  {
   "cell_type": "code",
   "execution_count": null,
   "metadata": {},
   "outputs": [],
   "source": []
  }
 ],
 "metadata": {
  "kernelspec": {
   "display_name": "secondenv",
   "language": "python",
   "name": "secondenv"
  },
  "language_info": {
   "codemirror_mode": {
    "name": "ipython",
    "version": 3
   },
   "file_extension": ".py",
   "mimetype": "text/x-python",
   "name": "python",
   "nbconvert_exporter": "python",
   "pygments_lexer": "ipython3",
   "version": "3.9.12"
  }
 },
 "nbformat": 4,
 "nbformat_minor": 2
}
